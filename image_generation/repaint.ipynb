{
 "cells": [
  {
   "cell_type": "code",
   "execution_count": 5,
   "metadata": {},
   "outputs": [],
   "source": [
    "import cv2\n",
    "import numpy as np\n",
    "from glob import glob\n",
    "from tqdm import tqdm\n",
    "\n",
    "def repaint_bg(path):\n",
    "    whole_lst = glob(path + '/**/masks/*_0.png', recursive=True)\n",
    "    obj_lst = glob(path + '/**/masks/*_[!0]*.png', recursive=True)\n",
    "    \n",
    "    for p in tqdm(whole_lst):\n",
    "        img = cv2.imread(p)\n",
    "        old_color = np.array([64, 64, 64])\n",
    "\n",
    "        # Define the new RGB value you want to replace it with\n",
    "        new_color = np.array([255, 255, 255])\n",
    "        # Find all pixels with the old RGB value and replace it with the new RGB value\n",
    "        mask = np.all(img == old_color, axis=-1)\n",
    "        img[mask] = new_color\n",
    "\n",
    "        cv2.imwrite(p, img)\n",
    "    \n",
    "    for p in tqdm(obj_lst):\n",
    "        img = cv2.imread(p)\n",
    "        old_color = np.array([64, 64, 64])\n",
    "\n",
    "        # Define the new RGB value you want to replace it with\n",
    "        new_color = np.array([0, 0, 0])\n",
    "        # Find all pixels with the old RGB value and replace it with the new RGB value\n",
    "        mask = np.all(img == old_color, axis=-1)\n",
    "        img[mask] = new_color\n",
    "\n",
    "        cv2.imwrite(p, img)"
   ]
  },
  {
   "cell_type": "code",
   "execution_count": 6,
   "metadata": {},
   "outputs": [
    {
     "name": "stderr",
     "output_type": "stream",
     "text": [
      "100%|██████████| 20/20 [00:00<00:00, 224.19it/s]\n",
      "100%|██████████| 60/60 [00:00<00:00, 298.02it/s]\n"
     ]
    }
   ],
   "source": [
    "repaint_bg('/workspace/clevr-dataset-gen/image_generation/1st_trial')"
   ]
  },
  {
   "cell_type": "code",
   "execution_count": null,
   "metadata": {},
   "outputs": [],
   "source": []
  }
 ],
 "metadata": {
  "kernelspec": {
   "display_name": "base",
   "language": "python",
   "name": "python3"
  },
  "language_info": {
   "codemirror_mode": {
    "name": "ipython",
    "version": 3
   },
   "file_extension": ".py",
   "mimetype": "text/x-python",
   "name": "python",
   "nbconvert_exporter": "python",
   "pygments_lexer": "ipython3",
   "version": "3.7.13"
  },
  "orig_nbformat": 4
 },
 "nbformat": 4,
 "nbformat_minor": 2
}
