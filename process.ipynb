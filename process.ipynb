{
 "cells": [
  {
   "cell_type": "code",
   "execution_count": 12,
   "metadata": {},
   "outputs": [
    {
     "name": "stderr",
     "output_type": "stream",
     "text": [
      "  2%|▏         | 22/1358 [00:00<00:06, 211.52it/s]"
     ]
    },
    {
     "name": "stdout",
     "output_type": "stream",
     "text": [
      "0000_0.png\n",
      "0000_1.png\n",
      "0000_2.png\n",
      "0000_3.png\n",
      "0000_4.png\n",
      "0001_0.png\n",
      "0001_1.png\n",
      "0001_2.png\n",
      "0001_3.png\n",
      "0001_4.png\n",
      "0001_5.png\n",
      "0002_0.png\n",
      "0002_1.png\n",
      "0002_2.png\n",
      "0002_3.png\n",
      "0003_0.png\n",
      "0003_1.png\n",
      "0003_2.png\n",
      "0003_3.png\n",
      "0003_4.png\n",
      "0004_0.png\n",
      "0004_1.png\n",
      "0004_2.png\n",
      "0005_0.png\n",
      "0005_1.png\n",
      "0005_2.png\n",
      "0006_0.png\n",
      "0006_1.png\n",
      "0006_2.png\n",
      "0007_0.png\n",
      "0007_1.png\n",
      "0007_2.png\n",
      "0007_3.png\n",
      "0008_0.png\n",
      "0008_1.png\n",
      "0008_2.png\n",
      "0008_3.png\n",
      "0009_0.png\n",
      "0009_1.png\n",
      "0009_2.png\n",
      "0010_0.png\n",
      "0010_1.png\n",
      "0010_2.png\n",
      "0010_3.png\n"
     ]
    },
    {
     "name": "stderr",
     "output_type": "stream",
     "text": [
      "  5%|▌         | 68/1358 [00:00<00:05, 223.06it/s]"
     ]
    },
    {
     "name": "stdout",
     "output_type": "stream",
     "text": [
      "0011_0.png\n",
      "0011_1.png\n",
      "0011_2.png\n",
      "0011_3.png\n",
      "0011_4.png\n",
      "0012_0.png\n",
      "0012_1.png\n",
      "0012_2.png\n",
      "0012_3.png\n",
      "0012_4.png\n",
      "0012_5.png\n",
      "0013_0.png\n",
      "0013_1.png\n",
      "0013_2.png\n",
      "0013_3.png\n",
      "0013_4.png\n",
      "0013_5.png\n",
      "0014_0.png\n",
      "0014_1.png\n",
      "0014_2.png\n",
      "0014_3.png\n",
      "0015_0.png\n",
      "0015_1.png\n",
      "0015_2.png\n",
      "0015_3.png\n",
      "0016_0.png\n",
      "0016_1.png\n",
      "0016_2.png\n",
      "0017_0.png\n",
      "0017_1.png\n",
      "0017_2.png\n",
      "0017_3.png\n",
      "0017_4.png\n",
      "0018_0.png\n",
      "0018_1.png\n",
      "0018_2.png\n",
      "0019_0.png\n",
      "0019_1.png\n",
      "0019_2.png\n",
      "0019_3.png\n",
      "0019_4.png\n",
      "0019_5.png\n",
      "0020_0.png\n",
      "0020_1.png\n",
      "0020_2.png\n",
      "0020_3.png\n"
     ]
    },
    {
     "name": "stderr",
     "output_type": "stream",
     "text": [
      "  8%|▊         | 114/1358 [00:00<00:05, 225.06it/s]"
     ]
    },
    {
     "name": "stdout",
     "output_type": "stream",
     "text": [
      "0020_4.png\n",
      "0020_5.png\n",
      "0021_0.png\n",
      "0021_1.png\n",
      "0021_2.png\n",
      "0021_3.png\n",
      "0022_0.png\n",
      "0022_1.png\n",
      "0022_2.png\n",
      "0022_3.png\n",
      "0022_4.png\n",
      "0022_5.png\n",
      "0023_0.png\n",
      "0023_1.png\n",
      "0023_2.png\n",
      "0024_0.png\n",
      "0024_1.png\n",
      "0024_2.png\n",
      "0024_3.png\n",
      "0024_4.png\n",
      "0025_0.png\n",
      "0025_1.png\n",
      "0025_2.png\n",
      "0025_3.png\n",
      "0025_4.png\n",
      "0025_5.png\n",
      "0026_0.png\n",
      "0026_1.png\n",
      "0026_2.png\n",
      "0026_3.png\n",
      "0026_4.png\n",
      "0027_0.png\n",
      "0027_1.png\n",
      "0027_2.png\n",
      "0027_3.png\n",
      "0027_4.png\n",
      "0027_5.png\n",
      "0028_0.png\n",
      "0028_1.png\n",
      "0028_2.png\n",
      "0028_3.png\n",
      "0029_0.png\n",
      "0029_1.png\n",
      "0029_2.png\n",
      "0029_3.png\n"
     ]
    },
    {
     "name": "stderr",
     "output_type": "stream",
     "text": [
      " 12%|█▏        | 160/1358 [00:00<00:05, 224.06it/s]"
     ]
    },
    {
     "name": "stdout",
     "output_type": "stream",
     "text": [
      "0029_4.png\n",
      "0029_5.png\n",
      "0030_0.png\n",
      "0030_1.png\n",
      "0030_2.png\n",
      "0030_3.png\n",
      "0030_4.png\n",
      "0030_5.png\n",
      "0031_0.png\n",
      "0031_1.png\n",
      "0031_2.png\n",
      "0031_3.png\n",
      "0031_4.png\n",
      "0031_5.png\n",
      "0032_0.png\n",
      "0032_1.png\n",
      "0032_2.png\n",
      "0032_3.png\n",
      "0033_0.png\n",
      "0033_1.png\n",
      "0033_2.png\n",
      "0033_3.png\n",
      "0033_4.png\n",
      "0033_5.png\n",
      "0034_0.png\n",
      "0034_1.png\n",
      "0034_2.png\n",
      "0034_3.png\n",
      "0034_4.png\n",
      "0034_5.png\n",
      "0035_0.png\n",
      "0035_1.png\n",
      "0035_2.png\n",
      "0035_3.png\n",
      "0035_4.png\n",
      "0036_0.png\n",
      "0036_1.png\n",
      "0036_2.png\n",
      "0036_3.png\n",
      "0037_0.png\n",
      "0037_1.png\n",
      "0037_2.png\n",
      "0038_0.png\n",
      "0038_1.png\n",
      "0038_2.png\n",
      "0038_3.png\n"
     ]
    },
    {
     "name": "stderr",
     "output_type": "stream",
     "text": [
      " 15%|█▌        | 206/1358 [00:00<00:05, 225.01it/s]"
     ]
    },
    {
     "name": "stdout",
     "output_type": "stream",
     "text": [
      "0039_0.png\n",
      "0039_1.png\n",
      "0039_2.png\n",
      "0039_3.png\n",
      "0040_0.png\n",
      "0040_1.png\n",
      "0040_2.png\n",
      "0040_3.png\n",
      "0041_0.png\n",
      "0041_1.png\n",
      "0041_2.png\n",
      "0041_3.png\n",
      "0041_4.png\n",
      "0041_5.png\n",
      "0042_0.png\n",
      "0042_1.png\n",
      "0042_2.png\n",
      "0042_3.png\n",
      "0043_0.png\n",
      "0043_1.png\n",
      "0043_2.png\n",
      "0044_0.png\n",
      "0044_1.png\n",
      "0044_2.png\n",
      "0045_0.png\n",
      "0045_1.png\n",
      "0045_2.png\n",
      "0045_3.png\n",
      "0046_0.png\n",
      "0046_1.png\n",
      "0046_2.png\n",
      "0046_3.png\n",
      "0046_4.png\n",
      "0047_0.png\n",
      "0047_1.png\n",
      "0047_2.png\n",
      "0047_3.png\n",
      "0047_4.png\n",
      "0048_0.png\n",
      "0048_1.png\n",
      "0048_2.png\n",
      "0048_3.png\n",
      "0049_0.png\n",
      "0049_1.png\n",
      "0049_2.png\n",
      "0049_3.png\n"
     ]
    },
    {
     "name": "stderr",
     "output_type": "stream",
     "text": [
      " 19%|█▊        | 252/1358 [00:01<00:04, 225.65it/s]"
     ]
    },
    {
     "name": "stdout",
     "output_type": "stream",
     "text": [
      "0050_0.png\n",
      "0050_1.png\n",
      "0050_2.png\n",
      "0051_0.png\n",
      "0051_1.png\n",
      "0051_2.png\n",
      "0052_0.png\n",
      "0052_1.png\n",
      "0052_2.png\n",
      "0052_3.png\n",
      "0052_4.png\n",
      "0052_5.png\n",
      "0053_0.png\n",
      "0053_1.png\n",
      "0053_2.png\n",
      "0054_0.png\n",
      "0054_1.png\n",
      "0054_2.png\n",
      "0055_0.png\n",
      "0055_1.png\n",
      "0055_2.png\n",
      "0055_3.png\n",
      "0055_4.png\n",
      "0055_5.png\n",
      "0056_0.png\n",
      "0056_1.png\n",
      "0056_2.png\n",
      "0056_3.png\n",
      "0056_4.png\n",
      "0056_5.png\n",
      "0057_0.png\n",
      "0057_1.png\n",
      "0057_2.png\n",
      "0057_3.png\n",
      "0057_4.png\n",
      "0058_0.png\n",
      "0058_1.png\n",
      "0058_2.png\n",
      "0058_3.png\n",
      "0059_0.png\n",
      "0059_1.png\n",
      "0059_2.png\n",
      "0060_0.png\n",
      "0060_1.png\n"
     ]
    },
    {
     "name": "stderr",
     "output_type": "stream",
     "text": [
      " 22%|██▏       | 297/1358 [00:01<00:05, 204.09it/s]"
     ]
    },
    {
     "name": "stdout",
     "output_type": "stream",
     "text": [
      "0060_2.png\n",
      "0060_3.png\n",
      "0060_4.png\n",
      "0060_5.png\n",
      "0061_0.png\n",
      "0061_1.png\n",
      "0061_2.png\n",
      "0061_3.png\n",
      "0061_4.png\n",
      "0061_5.png\n",
      "0062_0.png\n",
      "0062_1.png\n",
      "0062_2.png\n",
      "0062_3.png\n",
      "0062_4.png\n",
      "0063_0.png\n",
      "0063_1.png\n",
      "0063_2.png\n",
      "0063_3.png\n",
      "0064_0.png\n",
      "0064_1.png\n",
      "0064_2.png\n",
      "0064_3.png\n",
      "0065_0.png\n",
      "0065_1.png\n",
      "0065_2.png\n",
      "0066_0.png\n",
      "0066_1.png\n",
      "0066_2.png\n",
      "0066_3.png\n",
      "0066_4.png\n",
      "0066_5.png\n",
      "0067_0.png\n",
      "0067_1.png\n",
      "0067_2.png\n",
      "0068_0.png\n"
     ]
    },
    {
     "name": "stderr",
     "output_type": "stream",
     "text": [
      " 25%|██▍       | 339/1358 [00:01<00:05, 191.39it/s]"
     ]
    },
    {
     "name": "stdout",
     "output_type": "stream",
     "text": [
      "0068_1.png\n",
      "0068_2.png\n",
      "0068_3.png\n",
      "0068_4.png\n",
      "0069_0.png\n",
      "0069_1.png\n",
      "0069_2.png\n",
      "0069_3.png\n",
      "0070_0.png\n",
      "0070_1.png\n",
      "0070_2.png\n",
      "0070_3.png\n",
      "0070_4.png\n",
      "0070_5.png\n",
      "0071_0.png\n",
      "0071_1.png\n",
      "0071_2.png\n",
      "0071_3.png\n",
      "0071_4.png\n",
      "0071_5.png\n",
      "0072_0.png\n",
      "0072_1.png\n",
      "0072_2.png\n",
      "0073_0.png\n",
      "0073_1.png\n",
      "0073_2.png\n",
      "0073_3.png\n",
      "0074_0.png\n",
      "0074_1.png\n",
      "0074_2.png\n",
      "0074_3.png\n",
      "0074_4.png\n",
      "0074_5.png\n",
      "0075_0.png\n",
      "0075_1.png\n",
      "0075_2.png\n",
      "0075_3.png\n"
     ]
    },
    {
     "name": "stderr",
     "output_type": "stream",
     "text": [
      " 28%|██▊       | 379/1358 [00:01<00:05, 186.56it/s]"
     ]
    },
    {
     "name": "stdout",
     "output_type": "stream",
     "text": [
      "0075_4.png\n",
      "0075_5.png\n",
      "0076_0.png\n",
      "0076_1.png\n",
      "0076_2.png\n",
      "0077_0.png\n",
      "0077_1.png\n",
      "0077_2.png\n",
      "0077_3.png\n",
      "0077_4.png\n",
      "0077_5.png\n",
      "0078_0.png\n",
      "0078_1.png\n",
      "0078_2.png\n",
      "0078_3.png\n",
      "0078_4.png\n",
      "0078_5.png\n",
      "0079_0.png\n",
      "0079_1.png\n",
      "0079_2.png\n",
      "0079_3.png\n",
      "0079_4.png\n",
      "0079_5.png\n",
      "0080_0.png\n",
      "0080_1.png\n",
      "0080_2.png\n",
      "0081_0.png\n",
      "0081_1.png\n",
      "0081_2.png\n",
      "0081_3.png\n",
      "0081_4.png\n",
      "0081_5.png\n",
      "0082_0.png\n",
      "0082_1.png\n",
      "0082_2.png\n",
      "0083_0.png\n",
      "0083_1.png\n"
     ]
    },
    {
     "name": "stderr",
     "output_type": "stream",
     "text": [
      " 29%|██▉       | 398/1358 [00:01<00:05, 182.76it/s]"
     ]
    },
    {
     "name": "stdout",
     "output_type": "stream",
     "text": [
      "0083_2.png\n",
      "0083_3.png\n",
      "0083_4.png\n",
      "0083_5.png\n",
      "0084_0.png\n",
      "0084_1.png\n",
      "0084_2.png\n",
      "0085_0.png\n",
      "0085_1.png\n",
      "0085_2.png\n",
      "0085_3.png\n",
      "0085_4.png\n",
      "0086_0.png\n",
      "0086_1.png\n",
      "0086_2.png\n",
      "0086_3.png\n",
      "0087_0.png\n",
      "0087_1.png\n",
      "0087_2.png\n",
      "0087_3.png\n",
      "0087_4.png\n",
      "0088_0.png\n",
      "0088_1.png\n",
      "0088_2.png\n",
      "0088_3.png\n",
      "0088_4.png\n",
      "0088_5.png\n",
      "0089_0.png\n",
      "0089_1.png\n",
      "0089_2.png\n",
      "0089_3.png\n",
      "0090_0.png\n",
      "0090_1.png\n",
      "0090_2.png\n",
      "0090_3.png\n",
      "0091_0.png\n"
     ]
    },
    {
     "name": "stderr",
     "output_type": "stream",
     "text": [
      " 32%|███▏      | 436/1358 [00:02<00:05, 177.33it/s]"
     ]
    },
    {
     "name": "stdout",
     "output_type": "stream",
     "text": [
      "0091_1.png\n",
      "0091_2.png\n",
      "0091_3.png\n",
      "0091_4.png\n",
      "0092_0.png\n",
      "0092_1.png\n",
      "0092_2.png\n",
      "0092_3.png\n",
      "0093_0.png\n",
      "0093_1.png\n",
      "0093_2.png\n",
      "0093_3.png\n",
      "0093_4.png\n",
      "0094_0.png\n",
      "0094_1.png\n",
      "0094_2.png\n",
      "0095_0.png\n",
      "0095_1.png\n",
      "0095_2.png\n",
      "0095_3.png\n",
      "0095_4.png\n",
      "0096_0.png\n",
      "0096_1.png\n",
      "0096_2.png\n",
      "0096_3.png\n",
      "0096_4.png\n",
      "0097_0.png\n",
      "0097_1.png\n",
      "0097_2.png\n",
      "0097_3.png\n",
      "0097_4.png\n",
      "0097_5.png\n",
      "0098_0.png\n",
      "0098_1.png\n",
      "0098_2.png\n",
      "0098_3.png\n",
      "0098_4.png\n"
     ]
    },
    {
     "name": "stderr",
     "output_type": "stream",
     "text": [
      " 35%|███▍      | 475/1358 [00:02<00:04, 181.39it/s]"
     ]
    },
    {
     "name": "stdout",
     "output_type": "stream",
     "text": [
      "0098_5.png\n",
      "0099_0.png\n",
      "0099_1.png\n",
      "0099_2.png\n",
      "0099_3.png\n",
      "0099_4.png\n",
      "0099_5.png\n",
      "0100_0.png\n",
      "0100_1.png\n",
      "0100_2.png\n",
      "0100_3.png\n",
      "0100_4.png\n",
      "0100_5.png\n",
      "0101_0.png\n",
      "0101_1.png\n",
      "0101_2.png\n",
      "0101_3.png\n",
      "0101_4.png\n",
      "0101_5.png\n",
      "0102_0.png\n",
      "0102_1.png\n",
      "0102_2.png\n",
      "0102_3.png\n",
      "0102_4.png\n",
      "0103_0.png\n",
      "0103_1.png\n",
      "0103_2.png\n",
      "0103_3.png\n",
      "0103_4.png\n",
      "0104_0.png\n",
      "0104_1.png\n",
      "0104_2.png\n",
      "0104_3.png\n",
      "0105_0.png\n",
      "0105_1.png\n",
      "0105_2.png\n"
     ]
    },
    {
     "name": "stderr",
     "output_type": "stream",
     "text": [
      " 38%|███▊      | 512/1358 [00:02<00:04, 175.64it/s]"
     ]
    },
    {
     "name": "stdout",
     "output_type": "stream",
     "text": [
      "0106_0.png\n",
      "0106_1.png\n",
      "0106_2.png\n",
      "0106_3.png\n",
      "0106_4.png\n",
      "0106_5.png\n",
      "0107_0.png\n",
      "0107_1.png\n",
      "0107_2.png\n",
      "0107_3.png\n",
      "0108_0.png\n",
      "0108_1.png\n",
      "0108_2.png\n",
      "0109_0.png\n",
      "0109_1.png\n",
      "0109_2.png\n",
      "0109_3.png\n",
      "0109_4.png\n",
      "0110_0.png\n",
      "0110_1.png\n",
      "0110_2.png\n",
      "0111_0.png\n",
      "0111_1.png\n",
      "0111_2.png\n",
      "0111_3.png\n",
      "0112_0.png\n",
      "0112_1.png\n",
      "0112_2.png\n",
      "0112_3.png\n",
      "0112_4.png\n",
      "0112_5.png\n",
      "0113_0.png\n",
      "0113_1.png\n",
      "0113_2.png\n",
      "0113_3.png\n",
      "0113_4.png\n"
     ]
    },
    {
     "name": "stderr",
     "output_type": "stream",
     "text": [
      " 40%|████      | 549/1358 [00:02<00:04, 177.06it/s]"
     ]
    },
    {
     "name": "stdout",
     "output_type": "stream",
     "text": [
      "0113_5.png\n",
      "0114_0.png\n",
      "0114_1.png\n",
      "0114_2.png\n",
      "0114_3.png\n",
      "0114_4.png\n",
      "0114_5.png\n",
      "0115_0.png\n",
      "0115_1.png\n",
      "0115_2.png\n",
      "0115_3.png\n",
      "0115_4.png\n",
      "0116_0.png\n",
      "0116_1.png\n",
      "0116_2.png\n",
      "0117_0.png\n",
      "0117_1.png\n",
      "0117_2.png\n",
      "0117_3.png\n",
      "0118_0.png\n",
      "0118_1.png\n",
      "0118_2.png\n",
      "0118_3.png\n",
      "0119_0.png\n",
      "0119_1.png\n",
      "0119_2.png\n",
      "0119_3.png\n",
      "0119_4.png\n",
      "0120_0.png\n",
      "0120_1.png\n",
      "0120_2.png\n",
      "0120_3.png\n",
      "0120_4.png\n",
      "0120_5.png\n",
      "0121_0.png\n",
      "0121_1.png\n"
     ]
    },
    {
     "name": "stderr",
     "output_type": "stream",
     "text": [
      " 43%|████▎     | 585/1358 [00:02<00:04, 176.01it/s]"
     ]
    },
    {
     "name": "stdout",
     "output_type": "stream",
     "text": [
      "0121_2.png\n",
      "0121_3.png\n",
      "0121_4.png\n",
      "0122_0.png\n",
      "0122_1.png\n",
      "0122_2.png\n",
      "0123_0.png\n",
      "0123_1.png\n",
      "0123_2.png\n",
      "0123_3.png\n",
      "0123_4.png\n",
      "0123_5.png\n",
      "0124_0.png\n",
      "0124_1.png\n",
      "0124_2.png\n",
      "0125_0.png\n",
      "0125_1.png\n",
      "0125_2.png\n",
      "0126_0.png\n",
      "0126_1.png\n",
      "0126_2.png\n",
      "0127_0.png\n",
      "0127_1.png\n",
      "0127_2.png\n",
      "0127_3.png\n",
      "0127_4.png\n",
      "0127_5.png\n",
      "0128_0.png\n",
      "0128_1.png\n",
      "0128_2.png\n",
      "0128_3.png\n",
      "0128_4.png\n",
      "0128_5.png\n",
      "0129_0.png\n",
      "0129_1.png\n"
     ]
    },
    {
     "name": "stderr",
     "output_type": "stream",
     "text": [
      " 46%|████▌     | 622/1358 [00:03<00:04, 178.79it/s]"
     ]
    },
    {
     "name": "stdout",
     "output_type": "stream",
     "text": [
      "0129_2.png\n",
      "0129_3.png\n",
      "0130_0.png\n",
      "0130_1.png\n",
      "0130_2.png\n",
      "0131_0.png\n",
      "0131_1.png\n",
      "0131_2.png\n",
      "0131_3.png\n",
      "0131_4.png\n",
      "0132_0.png\n",
      "0132_1.png\n",
      "0132_2.png\n",
      "0132_3.png\n",
      "0132_4.png\n",
      "0133_0.png\n",
      "0133_1.png\n",
      "0133_2.png\n",
      "0133_3.png\n",
      "0133_4.png\n",
      "0133_5.png\n",
      "0134_0.png\n",
      "0134_1.png\n",
      "0134_2.png\n",
      "0134_3.png\n",
      "0134_4.png\n",
      "0134_5.png\n",
      "0135_0.png\n",
      "0135_1.png\n",
      "0135_2.png\n",
      "0135_3.png\n",
      "0135_4.png\n",
      "0135_5.png\n",
      "0136_0.png\n",
      "0136_1.png\n",
      "0136_2.png\n",
      "0137_0.png\n"
     ]
    },
    {
     "name": "stderr",
     "output_type": "stream",
     "text": [
      " 48%|████▊     | 658/1358 [00:03<00:03, 176.66it/s]"
     ]
    },
    {
     "name": "stdout",
     "output_type": "stream",
     "text": [
      "0137_1.png\n",
      "0137_2.png\n",
      "0137_3.png\n",
      "0138_0.png\n",
      "0138_1.png\n",
      "0138_2.png\n",
      "0138_3.png\n",
      "0139_0.png\n",
      "0139_1.png\n",
      "0139_2.png\n",
      "0139_3.png\n",
      "0139_4.png\n",
      "0140_0.png\n",
      "0140_1.png\n",
      "0140_2.png\n",
      "0141_0.png\n",
      "0141_1.png\n",
      "0141_2.png\n",
      "0141_3.png\n",
      "0141_4.png\n",
      "0141_5.png\n",
      "0142_0.png\n",
      "0142_1.png\n",
      "0142_2.png\n",
      "0142_3.png\n",
      "0143_0.png\n",
      "0143_1.png\n",
      "0143_2.png\n",
      "0143_3.png\n",
      "0144_0.png\n",
      "0144_1.png\n",
      "0144_2.png\n",
      "0144_3.png\n",
      "0144_4.png\n",
      "0144_5.png\n"
     ]
    },
    {
     "name": "stderr",
     "output_type": "stream",
     "text": [
      " 51%|█████     | 694/1358 [00:03<00:03, 176.97it/s]"
     ]
    },
    {
     "name": "stdout",
     "output_type": "stream",
     "text": [
      "0145_0.png\n",
      "0145_1.png\n",
      "0145_2.png\n",
      "0145_3.png\n",
      "0145_4.png\n",
      "0145_5.png\n",
      "0146_0.png\n",
      "0146_1.png\n",
      "0146_2.png\n",
      "0146_3.png\n",
      "0147_0.png\n",
      "0147_1.png\n",
      "0147_2.png\n",
      "0148_0.png\n",
      "0148_1.png\n",
      "0148_2.png\n",
      "0149_0.png\n",
      "0149_1.png\n",
      "0149_2.png\n",
      "0149_3.png\n",
      "0150_0.png\n",
      "0150_1.png\n",
      "0150_2.png\n",
      "0150_3.png\n",
      "0150_4.png\n",
      "0151_0.png\n",
      "0151_1.png\n",
      "0151_2.png\n",
      "0151_3.png\n",
      "0152_0.png\n",
      "0152_1.png\n",
      "0152_2.png\n",
      "0153_0.png\n",
      "0153_1.png\n",
      "0153_2.png\n",
      "0153_3.png\n"
     ]
    },
    {
     "name": "stderr",
     "output_type": "stream",
     "text": [
      " 54%|█████▍    | 733/1358 [00:03<00:03, 182.81it/s]"
     ]
    },
    {
     "name": "stdout",
     "output_type": "stream",
     "text": [
      "0153_4.png\n",
      "0154_0.png\n",
      "0154_1.png\n",
      "0154_2.png\n",
      "0154_3.png\n",
      "0155_0.png\n",
      "0155_1.png\n",
      "0155_2.png\n",
      "0155_3.png\n",
      "0155_4.png\n",
      "0155_5.png\n",
      "0156_0.png\n",
      "0156_1.png\n",
      "0156_2.png\n",
      "0156_3.png\n",
      "0156_4.png\n",
      "0156_5.png\n",
      "0157_0.png\n",
      "0157_1.png\n",
      "0157_2.png\n",
      "0157_3.png\n",
      "0157_4.png\n",
      "0157_5.png\n",
      "0158_0.png\n",
      "0158_1.png\n",
      "0158_2.png\n",
      "0158_3.png\n",
      "0158_4.png\n",
      "0158_5.png\n",
      "0159_0.png\n",
      "0159_1.png\n",
      "0159_2.png\n",
      "0159_3.png\n",
      "0159_4.png\n",
      "0160_0.png\n",
      "0160_1.png\n",
      "0160_2.png\n",
      "0161_0.png\n"
     ]
    },
    {
     "name": "stderr",
     "output_type": "stream",
     "text": [
      " 57%|█████▋    | 771/1358 [00:04<00:03, 182.76it/s]"
     ]
    },
    {
     "name": "stdout",
     "output_type": "stream",
     "text": [
      "0161_1.png\n",
      "0161_2.png\n",
      "0161_3.png\n",
      "0162_0.png\n",
      "0162_1.png\n",
      "0162_2.png\n",
      "0162_3.png\n",
      "0162_4.png\n",
      "0163_0.png\n",
      "0163_1.png\n",
      "0163_2.png\n",
      "0163_3.png\n",
      "0163_4.png\n",
      "0164_0.png\n",
      "0164_1.png\n",
      "0164_2.png\n",
      "0164_3.png\n",
      "0165_0.png\n",
      "0165_1.png\n",
      "0165_2.png\n",
      "0165_3.png\n",
      "0165_4.png\n",
      "0165_5.png\n",
      "0166_0.png\n",
      "0166_1.png\n",
      "0166_2.png\n",
      "0166_3.png\n",
      "0167_0.png\n",
      "0167_1.png\n",
      "0167_2.png\n",
      "0167_3.png\n",
      "0168_0.png\n",
      "0168_1.png\n",
      "0168_2.png\n",
      "0168_3.png\n",
      "0168_4.png\n",
      "0168_5.png\n"
     ]
    },
    {
     "name": "stderr",
     "output_type": "stream",
     "text": [
      " 60%|█████▉    | 809/1358 [00:04<00:03, 180.69it/s]"
     ]
    },
    {
     "name": "stdout",
     "output_type": "stream",
     "text": [
      "0169_0.png\n",
      "0169_1.png\n",
      "0169_2.png\n",
      "0170_0.png\n",
      "0170_1.png\n",
      "0170_2.png\n",
      "0171_0.png\n",
      "0171_1.png\n",
      "0171_2.png\n",
      "0171_3.png\n",
      "0172_0.png\n",
      "0172_1.png\n",
      "0172_2.png\n",
      "0172_3.png\n",
      "0172_4.png\n",
      "0172_5.png\n",
      "0173_0.png\n",
      "0173_1.png\n",
      "0173_2.png\n",
      "0173_3.png\n",
      "0173_4.png\n",
      "0173_5.png\n",
      "0174_0.png\n",
      "0174_1.png\n",
      "0174_2.png\n",
      "0175_0.png\n",
      "0175_1.png\n",
      "0175_2.png\n",
      "0175_3.png\n",
      "0175_4.png\n",
      "0176_0.png\n",
      "0176_1.png\n",
      "0176_2.png\n",
      "0176_3.png\n",
      "0176_4.png\n",
      "0177_0.png\n"
     ]
    },
    {
     "name": "stderr",
     "output_type": "stream",
     "text": [
      " 62%|██████▏   | 846/1358 [00:04<00:02, 178.20it/s]"
     ]
    },
    {
     "name": "stdout",
     "output_type": "stream",
     "text": [
      "0177_1.png\n",
      "0177_2.png\n",
      "0177_3.png\n",
      "0177_4.png\n",
      "0178_0.png\n",
      "0178_1.png\n",
      "0178_2.png\n",
      "0179_0.png\n",
      "0179_1.png\n",
      "0179_2.png\n",
      "0179_3.png\n",
      "0179_4.png\n",
      "0179_5.png\n",
      "0180_0.png\n",
      "0180_1.png\n",
      "0180_2.png\n",
      "0180_3.png\n",
      "0180_4.png\n",
      "0181_0.png\n",
      "0181_1.png\n",
      "0181_2.png\n",
      "0181_3.png\n",
      "0182_0.png\n",
      "0182_1.png\n",
      "0182_2.png\n",
      "0182_3.png\n",
      "0182_4.png\n",
      "0182_5.png\n",
      "0183_0.png\n",
      "0183_1.png\n",
      "0183_2.png\n",
      "0184_0.png\n",
      "0184_1.png\n",
      "0184_2.png\n",
      "0185_0.png\n",
      "0185_1.png\n"
     ]
    },
    {
     "name": "stderr",
     "output_type": "stream",
     "text": [
      " 65%|██████▌   | 883/1358 [00:04<00:02, 179.28it/s]"
     ]
    },
    {
     "name": "stdout",
     "output_type": "stream",
     "text": [
      "0185_2.png\n",
      "0185_3.png\n",
      "0186_0.png\n",
      "0186_1.png\n",
      "0186_2.png\n",
      "0187_0.png\n",
      "0187_1.png\n",
      "0187_2.png\n",
      "0187_3.png\n",
      "0187_4.png\n",
      "0187_5.png\n",
      "0188_0.png\n",
      "0188_1.png\n",
      "0188_2.png\n",
      "0188_3.png\n",
      "0188_4.png\n",
      "0189_0.png\n",
      "0189_1.png\n",
      "0189_2.png\n",
      "0189_3.png\n",
      "0189_4.png\n",
      "0189_5.png\n",
      "0190_0.png\n",
      "0190_1.png\n",
      "0190_2.png\n",
      "0190_3.png\n",
      "0191_0.png\n",
      "0191_1.png\n",
      "0191_2.png\n",
      "0191_3.png\n",
      "0192_0.png\n",
      "0192_1.png\n",
      "0192_2.png\n",
      "0192_3.png\n",
      "0192_4.png\n",
      "0192_5.png\n",
      "0193_0.png\n",
      "0193_1.png\n"
     ]
    },
    {
     "name": "stderr",
     "output_type": "stream",
     "text": [
      " 68%|██████▊   | 920/1358 [00:04<00:02, 178.43it/s]"
     ]
    },
    {
     "name": "stdout",
     "output_type": "stream",
     "text": [
      "0193_2.png\n",
      "0194_0.png\n",
      "0194_1.png\n",
      "0194_2.png\n",
      "0195_0.png\n",
      "0195_1.png\n",
      "0195_2.png\n",
      "0195_3.png\n",
      "0195_4.png\n",
      "0195_5.png\n",
      "0196_0.png\n",
      "0196_1.png\n",
      "0196_2.png\n",
      "0196_3.png\n",
      "0196_4.png\n",
      "0196_5.png\n",
      "0197_0.png\n",
      "0197_1.png\n",
      "0197_2.png\n",
      "0197_3.png\n",
      "0197_4.png\n",
      "0198_0.png\n",
      "0198_1.png\n",
      "0198_2.png\n",
      "0198_3.png\n",
      "0198_4.png\n",
      "0198_5.png\n",
      "0199_0.png\n",
      "0199_1.png\n",
      "0199_2.png\n",
      "0200_0.png\n",
      "0200_1.png\n",
      "0200_2.png\n",
      "0200_3.png\n",
      "0200_4.png\n",
      "0201_0.png\n"
     ]
    },
    {
     "name": "stderr",
     "output_type": "stream",
     "text": [
      " 70%|███████   | 957/1358 [00:05<00:02, 180.43it/s]"
     ]
    },
    {
     "name": "stdout",
     "output_type": "stream",
     "text": [
      "0201_1.png\n",
      "0201_2.png\n",
      "0201_3.png\n",
      "0202_0.png\n",
      "0202_1.png\n",
      "0202_2.png\n",
      "0202_3.png\n",
      "0203_0.png\n",
      "0203_1.png\n",
      "0203_2.png\n",
      "0204_0.png\n",
      "0204_1.png\n",
      "0204_2.png\n",
      "0205_0.png\n",
      "0205_1.png\n",
      "0205_2.png\n",
      "0206_0.png\n",
      "0206_1.png\n",
      "0206_2.png\n",
      "0207_0.png\n",
      "0207_1.png\n",
      "0207_2.png\n",
      "0207_3.png\n",
      "0207_4.png\n",
      "0207_5.png\n",
      "0208_0.png\n",
      "0208_1.png\n",
      "0208_2.png\n",
      "0209_0.png\n",
      "0209_1.png\n",
      "0209_2.png\n",
      "0209_3.png\n",
      "0209_4.png\n",
      "0210_0.png\n",
      "0210_1.png\n",
      "0210_2.png\n",
      "0210_3.png\n"
     ]
    },
    {
     "name": "stderr",
     "output_type": "stream",
     "text": [
      " 73%|███████▎  | 995/1358 [00:05<00:02, 180.36it/s]"
     ]
    },
    {
     "name": "stdout",
     "output_type": "stream",
     "text": [
      "0210_4.png\n",
      "0211_0.png\n",
      "0211_1.png\n",
      "0211_2.png\n",
      "0212_0.png\n",
      "0212_1.png\n",
      "0212_2.png\n",
      "0212_3.png\n",
      "0212_4.png\n",
      "0213_0.png\n",
      "0213_1.png\n",
      "0213_2.png\n",
      "0213_3.png\n",
      "0213_4.png\n",
      "0213_5.png\n",
      "0214_0.png\n",
      "0214_1.png\n",
      "0214_2.png\n",
      "0214_3.png\n",
      "0214_4.png\n",
      "0214_5.png\n",
      "0215_0.png\n",
      "0215_1.png\n",
      "0215_2.png\n",
      "0216_0.png\n",
      "0216_1.png\n",
      "0216_2.png\n",
      "0216_3.png\n",
      "0217_0.png\n",
      "0217_1.png\n",
      "0217_2.png\n",
      "0217_3.png\n",
      "0217_4.png\n",
      "0218_0.png\n",
      "0218_1.png\n",
      "0218_2.png\n"
     ]
    },
    {
     "name": "stderr",
     "output_type": "stream",
     "text": [
      " 76%|███████▌  | 1033/1358 [00:05<00:01, 179.42it/s]"
     ]
    },
    {
     "name": "stdout",
     "output_type": "stream",
     "text": [
      "0218_3.png\n",
      "0218_4.png\n",
      "0219_0.png\n",
      "0219_1.png\n",
      "0219_2.png\n",
      "0220_0.png\n",
      "0220_1.png\n",
      "0220_2.png\n",
      "0220_3.png\n",
      "0220_4.png\n",
      "0221_0.png\n",
      "0221_1.png\n",
      "0221_2.png\n",
      "0221_3.png\n",
      "0222_0.png\n",
      "0222_1.png\n",
      "0222_2.png\n",
      "0222_3.png\n",
      "0223_0.png\n",
      "0223_1.png\n",
      "0223_2.png\n",
      "0223_3.png\n",
      "0224_0.png\n",
      "0224_1.png\n",
      "0224_2.png\n",
      "0224_3.png\n",
      "0224_4.png\n",
      "0225_0.png\n",
      "0225_1.png\n",
      "0225_2.png\n",
      "0225_3.png\n",
      "0225_4.png\n",
      "0225_5.png\n",
      "0226_0.png\n",
      "0226_1.png\n",
      "0226_2.png\n",
      "0226_3.png\n"
     ]
    },
    {
     "name": "stderr",
     "output_type": "stream",
     "text": [
      " 79%|███████▉  | 1070/1358 [00:05<00:01, 178.47it/s]"
     ]
    },
    {
     "name": "stdout",
     "output_type": "stream",
     "text": [
      "0227_0.png\n",
      "0227_1.png\n",
      "0227_2.png\n",
      "0227_3.png\n",
      "0227_4.png\n",
      "0227_5.png\n",
      "0228_0.png\n",
      "0228_1.png\n",
      "0228_2.png\n",
      "0229_0.png\n",
      "0229_1.png\n",
      "0229_2.png\n",
      "0229_3.png\n",
      "0229_4.png\n",
      "0229_5.png\n",
      "0230_0.png\n",
      "0230_1.png\n",
      "0230_2.png\n",
      "0230_3.png\n",
      "0231_0.png\n",
      "0231_1.png\n",
      "0231_2.png\n",
      "0231_3.png\n",
      "0232_0.png\n",
      "0232_1.png\n",
      "0232_2.png\n",
      "0232_3.png\n",
      "0232_4.png\n",
      "0233_0.png\n",
      "0233_1.png\n",
      "0233_2.png\n",
      "0234_0.png\n",
      "0234_1.png\n",
      "0234_2.png\n",
      "0235_0.png\n",
      "0235_1.png\n"
     ]
    },
    {
     "name": "stderr",
     "output_type": "stream",
     "text": [
      " 82%|████████▏ | 1108/1358 [00:05<00:01, 180.93it/s]"
     ]
    },
    {
     "name": "stdout",
     "output_type": "stream",
     "text": [
      "0235_2.png\n",
      "0235_3.png\n",
      "0236_0.png\n",
      "0236_1.png\n",
      "0236_2.png\n",
      "0236_3.png\n",
      "0237_0.png\n",
      "0237_1.png\n",
      "0237_2.png\n",
      "0237_3.png\n",
      "0237_4.png\n",
      "0237_5.png\n",
      "0238_0.png\n",
      "0238_1.png\n",
      "0238_2.png\n",
      "0238_3.png\n",
      "0239_0.png\n",
      "0239_1.png\n",
      "0239_2.png\n",
      "0240_0.png\n",
      "0240_1.png\n",
      "0240_2.png\n",
      "0240_3.png\n",
      "0240_4.png\n",
      "0240_5.png\n",
      "0241_0.png\n",
      "0241_1.png\n",
      "0241_2.png\n",
      "0242_0.png\n",
      "0242_1.png\n",
      "0242_2.png\n",
      "0242_3.png\n",
      "0242_4.png\n",
      "0243_0.png\n",
      "0243_1.png\n",
      "0243_2.png\n",
      "0243_3.png\n"
     ]
    },
    {
     "name": "stderr",
     "output_type": "stream",
     "text": [
      " 83%|████████▎ | 1127/1358 [00:06<00:01, 178.95it/s]"
     ]
    },
    {
     "name": "stdout",
     "output_type": "stream",
     "text": [
      "0244_0.png\n",
      "0244_1.png\n",
      "0244_2.png\n",
      "0244_3.png\n",
      "0245_0.png\n",
      "0245_1.png\n",
      "0245_2.png\n",
      "0245_3.png\n",
      "0245_4.png\n",
      "0245_5.png\n",
      "0246_0.png\n",
      "0246_1.png\n",
      "0246_2.png\n",
      "0246_3.png\n",
      "0246_4.png\n",
      "0246_5.png\n",
      "0247_0.png\n",
      "0247_1.png\n",
      "0247_2.png\n",
      "0247_3.png\n",
      "0247_4.png\n",
      "0247_5.png\n",
      "0248_0.png\n",
      "0248_1.png\n",
      "0248_2.png\n",
      "0248_3.png\n",
      "0249_0.png\n",
      "0249_1.png\n",
      "0249_2.png\n",
      "0250_0.png\n",
      "0250_1.png\n",
      "0250_2.png\n",
      "0251_0.png\n",
      "0251_1.png\n",
      "0251_2.png\n",
      "0251_3.png\n",
      "0252_0.png\n"
     ]
    },
    {
     "name": "stderr",
     "output_type": "stream",
     "text": [
      " 86%|████████▌ | 1165/1358 [00:06<00:01, 179.52it/s]"
     ]
    },
    {
     "name": "stdout",
     "output_type": "stream",
     "text": [
      "0252_1.png\n",
      "0252_2.png\n",
      "0252_3.png\n",
      "0252_4.png\n",
      "0252_5.png\n",
      "0253_0.png\n",
      "0253_1.png\n",
      "0253_2.png\n",
      "0254_0.png\n",
      "0254_1.png\n",
      "0254_2.png\n",
      "0255_0.png\n",
      "0255_1.png\n",
      "0255_2.png\n",
      "0255_3.png\n",
      "0255_4.png\n",
      "0255_5.png\n",
      "0256_0.png\n",
      "0256_1.png\n",
      "0256_2.png\n",
      "0256_3.png\n",
      "0256_4.png\n",
      "0256_5.png\n",
      "0257_0.png\n",
      "0257_1.png\n",
      "0257_2.png\n",
      "0257_3.png\n",
      "0257_4.png\n",
      "0257_5.png\n",
      "0258_0.png\n",
      "0258_1.png\n",
      "0258_2.png\n",
      "0259_0.png\n",
      "0259_1.png\n",
      "0259_2.png\n",
      "0259_3.png\n",
      "0260_0.png\n",
      "0260_1.png\n"
     ]
    },
    {
     "name": "stderr",
     "output_type": "stream",
     "text": [
      " 89%|████████▊ | 1205/1358 [00:06<00:00, 185.27it/s]"
     ]
    },
    {
     "name": "stdout",
     "output_type": "stream",
     "text": [
      "0260_2.png\n",
      "0260_3.png\n",
      "0260_4.png\n",
      "0260_5.png\n",
      "0261_0.png\n",
      "0261_1.png\n",
      "0261_2.png\n",
      "0261_3.png\n",
      "0262_0.png\n",
      "0262_1.png\n",
      "0262_2.png\n",
      "0262_3.png\n",
      "0263_0.png\n",
      "0263_1.png\n",
      "0263_2.png\n",
      "0264_0.png\n",
      "0264_1.png\n",
      "0264_2.png\n",
      "0264_3.png\n",
      "0264_4.png\n",
      "0265_0.png\n",
      "0265_1.png\n",
      "0265_2.png\n",
      "0266_0.png\n",
      "0266_1.png\n",
      "0266_2.png\n",
      "0266_3.png\n",
      "0267_0.png\n",
      "0267_1.png\n",
      "0267_2.png\n",
      "0267_3.png\n",
      "0267_4.png\n",
      "0268_0.png\n",
      "0268_1.png\n",
      "0268_2.png\n",
      "0269_0.png\n",
      "0269_1.png\n"
     ]
    },
    {
     "name": "stderr",
     "output_type": "stream",
     "text": [
      " 92%|█████████▏| 1243/1358 [00:06<00:00, 181.66it/s]"
     ]
    },
    {
     "name": "stdout",
     "output_type": "stream",
     "text": [
      "0269_2.png\n",
      "0269_3.png\n",
      "0269_4.png\n",
      "0269_5.png\n",
      "0270_0.png\n",
      "0270_1.png\n",
      "0270_2.png\n",
      "0270_3.png\n",
      "0271_0.png\n",
      "0271_1.png\n",
      "0271_2.png\n",
      "0271_3.png\n",
      "0271_4.png\n",
      "0272_0.png\n",
      "0272_1.png\n",
      "0272_2.png\n",
      "0273_0.png\n",
      "0273_1.png\n",
      "0273_2.png\n",
      "0273_3.png\n",
      "0274_0.png\n",
      "0274_1.png\n",
      "0274_2.png\n",
      "0274_3.png\n",
      "0274_4.png\n",
      "0274_5.png\n",
      "0275_0.png\n",
      "0275_1.png\n",
      "0275_2.png\n",
      "0276_0.png\n",
      "0276_1.png\n",
      "0276_2.png\n",
      "0276_3.png\n",
      "0276_4.png\n",
      "0277_0.png\n",
      "0277_1.png\n"
     ]
    },
    {
     "name": "stderr",
     "output_type": "stream",
     "text": [
      " 94%|█████████▍| 1281/1358 [00:06<00:00, 178.29it/s]"
     ]
    },
    {
     "name": "stdout",
     "output_type": "stream",
     "text": [
      "0277_2.png\n",
      "0277_3.png\n",
      "0277_4.png\n",
      "0277_5.png\n",
      "0278_0.png\n",
      "0278_1.png\n",
      "0278_2.png\n",
      "0278_3.png\n",
      "0279_0.png\n",
      "0279_1.png\n",
      "0279_2.png\n",
      "0280_0.png\n",
      "0280_1.png\n",
      "0280_2.png\n",
      "0280_3.png\n",
      "0280_4.png\n",
      "0280_5.png\n",
      "0281_0.png\n",
      "0281_1.png\n",
      "0281_2.png\n",
      "0281_3.png\n",
      "0282_0.png\n",
      "0282_1.png\n",
      "0282_2.png\n",
      "0282_3.png\n",
      "0283_0.png\n",
      "0283_1.png\n",
      "0283_2.png\n",
      "0283_3.png\n",
      "0284_0.png\n",
      "0284_1.png\n",
      "0284_2.png\n",
      "0284_3.png\n",
      "0284_4.png\n",
      "0285_0.png\n",
      "0285_1.png\n"
     ]
    },
    {
     "name": "stderr",
     "output_type": "stream",
     "text": [
      " 97%|█████████▋| 1317/1358 [00:07<00:00, 176.29it/s]"
     ]
    },
    {
     "name": "stdout",
     "output_type": "stream",
     "text": [
      "0285_2.png\n",
      "0285_3.png\n",
      "0286_0.png\n",
      "0286_1.png\n",
      "0286_2.png\n",
      "0286_3.png\n",
      "0286_4.png\n",
      "0287_0.png\n",
      "0287_1.png\n",
      "0287_2.png\n",
      "0287_3.png\n",
      "0287_4.png\n",
      "0287_5.png\n",
      "0288_0.png\n",
      "0288_1.png\n",
      "0288_2.png\n",
      "0288_3.png\n",
      "0288_4.png\n",
      "0288_5.png\n",
      "0289_0.png\n",
      "0289_1.png\n",
      "0289_2.png\n",
      "0290_0.png\n",
      "0290_1.png\n",
      "0290_2.png\n",
      "0291_0.png\n",
      "0291_1.png\n",
      "0291_2.png\n",
      "0291_3.png\n",
      "0292_0.png\n",
      "0292_1.png\n",
      "0292_2.png\n",
      "0292_3.png\n",
      "0292_4.png\n",
      "0293_0.png\n",
      "0293_1.png\n"
     ]
    },
    {
     "name": "stderr",
     "output_type": "stream",
     "text": [
      "100%|██████████| 1358/1358 [00:07<00:00, 186.07it/s]\n"
     ]
    },
    {
     "name": "stdout",
     "output_type": "stream",
     "text": [
      "0293_2.png\n",
      "0294_0.png\n",
      "0294_1.png\n",
      "0294_2.png\n",
      "0294_3.png\n",
      "0294_4.png\n",
      "0295_0.png\n",
      "0295_1.png\n",
      "0295_2.png\n",
      "0296_0.png\n",
      "0296_1.png\n",
      "0296_2.png\n",
      "0296_3.png\n",
      "0296_4.png\n",
      "0297_0.png\n",
      "0297_1.png\n",
      "0297_2.png\n",
      "0297_3.png\n",
      "0297_4.png\n",
      "0297_5.png\n",
      "0298_0.png\n",
      "0298_1.png\n",
      "0298_2.png\n",
      "0299_0.png\n",
      "0299_1.png\n",
      "0299_2.png\n",
      "0299_3.png\n",
      "0299_4.png\n",
      "0299_5.png\n"
     ]
    },
    {
     "name": "stderr",
     "output_type": "stream",
     "text": [
      "  0%|          | 0/1358 [00:00<?, ?it/s]"
     ]
    },
    {
     "name": "stdout",
     "output_type": "stream",
     "text": [
      "0000_0.png\n",
      "0000_1.png\n",
      "0000_2.png\n",
      "0000_3.png\n"
     ]
    },
    {
     "name": "stderr",
     "output_type": "stream",
     "text": [
      "  1%|          | 16/1358 [00:00<00:08, 156.39it/s]"
     ]
    },
    {
     "name": "stdout",
     "output_type": "stream",
     "text": [
      "0000_4.png\n",
      "0001_0.png\n",
      "0001_1.png\n",
      "0001_2.png\n",
      "0001_3.png\n",
      "0001_4.png\n",
      "0001_5.png\n",
      "0002_0.png\n",
      "0002_1.png\n",
      "0002_2.png\n",
      "0002_3.png\n",
      "0003_0.png\n",
      "0003_1.png\n",
      "0003_2.png\n",
      "0003_3.png\n",
      "0003_4.png\n",
      "0004_0.png\n",
      "0004_1.png\n",
      "0004_2.png\n",
      "0005_0.png\n",
      "0005_1.png\n",
      "0005_2.png\n",
      "0006_0.png\n",
      "0006_1.png\n",
      "0006_2.png\n",
      "0007_0.png\n",
      "0007_1.png\n",
      "0007_2.png\n"
     ]
    },
    {
     "name": "stderr",
     "output_type": "stream",
     "text": [
      "  2%|▏         | 32/1358 [00:00<00:08, 157.40it/s]"
     ]
    },
    {
     "name": "stdout",
     "output_type": "stream",
     "text": [
      "0007_3.png\n",
      "0008_0.png\n",
      "0008_1.png\n",
      "0008_2.png\n"
     ]
    },
    {
     "name": "stderr",
     "output_type": "stream",
     "text": [
      "  4%|▎         | 48/1358 [00:00<00:08, 157.27it/s]"
     ]
    },
    {
     "name": "stdout",
     "output_type": "stream",
     "text": [
      "0008_3.png\n",
      "0009_0.png\n",
      "0009_1.png\n",
      "0009_2.png\n",
      "0010_0.png\n",
      "0010_1.png\n",
      "0010_2.png\n",
      "0010_3.png\n",
      "0011_0.png\n",
      "0011_1.png\n",
      "0011_2.png\n",
      "0011_3.png\n",
      "0011_4.png\n",
      "0012_0.png\n",
      "0012_1.png\n",
      "0012_2.png\n",
      "0012_3.png\n",
      "0012_4.png\n",
      "0012_5.png\n",
      "0013_0.png\n",
      "0013_1.png\n",
      "0013_2.png\n",
      "0013_3.png\n",
      "0013_4.png\n",
      "0013_5.png\n",
      "0014_0.png\n",
      "0014_1.png\n",
      "0014_2.png\n"
     ]
    },
    {
     "name": "stderr",
     "output_type": "stream",
     "text": [
      "  5%|▍         | 64/1358 [00:00<00:08, 157.53it/s]"
     ]
    },
    {
     "name": "stdout",
     "output_type": "stream",
     "text": [
      "0014_3.png\n",
      "0015_0.png\n",
      "0015_1.png\n",
      "0015_2.png\n"
     ]
    },
    {
     "name": "stderr",
     "output_type": "stream",
     "text": [
      "  6%|▌         | 80/1358 [00:00<00:08, 157.35it/s]"
     ]
    },
    {
     "name": "stdout",
     "output_type": "stream",
     "text": [
      "0015_3.png\n",
      "0016_0.png\n",
      "0016_1.png\n",
      "0016_2.png\n",
      "0017_0.png\n",
      "0017_1.png\n",
      "0017_2.png\n",
      "0017_3.png\n",
      "0017_4.png\n",
      "0018_0.png\n",
      "0018_1.png\n",
      "0018_2.png\n",
      "0019_0.png\n",
      "0019_1.png\n",
      "0019_2.png\n",
      "0019_3.png\n",
      "0019_4.png\n",
      "0019_5.png\n",
      "0020_0.png\n",
      "0020_1.png\n",
      "0020_2.png\n",
      "0020_3.png\n",
      "0020_4.png\n",
      "0020_5.png\n",
      "0021_0.png\n",
      "0021_1.png\n",
      "0021_2.png\n",
      "0021_3.png\n"
     ]
    },
    {
     "name": "stderr",
     "output_type": "stream",
     "text": [
      "  7%|▋         | 96/1358 [00:00<00:07, 157.77it/s]"
     ]
    },
    {
     "name": "stdout",
     "output_type": "stream",
     "text": [
      "0022_0.png\n",
      "0022_1.png\n",
      "0022_2.png\n",
      "0022_3.png\n"
     ]
    },
    {
     "name": "stderr",
     "output_type": "stream",
     "text": [
      "  8%|▊         | 112/1358 [00:00<00:07, 157.40it/s]"
     ]
    },
    {
     "name": "stdout",
     "output_type": "stream",
     "text": [
      "0022_4.png\n",
      "0022_5.png\n",
      "0023_0.png\n",
      "0023_1.png\n",
      "0023_2.png\n",
      "0024_0.png\n",
      "0024_1.png\n",
      "0024_2.png\n",
      "0024_3.png\n",
      "0024_4.png\n",
      "0025_0.png\n",
      "0025_1.png\n",
      "0025_2.png\n",
      "0025_3.png\n",
      "0025_4.png\n",
      "0025_5.png\n",
      "0026_0.png\n",
      "0026_1.png\n",
      "0026_2.png\n",
      "0026_3.png\n",
      "0026_4.png\n",
      "0027_0.png\n",
      "0027_1.png\n",
      "0027_2.png\n",
      "0027_3.png\n",
      "0027_4.png\n",
      "0027_5.png\n",
      "0028_0.png\n"
     ]
    },
    {
     "name": "stderr",
     "output_type": "stream",
     "text": [
      "  9%|▉         | 128/1358 [00:00<00:07, 157.89it/s]"
     ]
    },
    {
     "name": "stdout",
     "output_type": "stream",
     "text": [
      "0028_1.png\n",
      "0028_2.png\n",
      "0028_3.png\n",
      "0029_0.png\n"
     ]
    },
    {
     "name": "stderr",
     "output_type": "stream",
     "text": [
      " 11%|█         | 144/1358 [00:00<00:07, 157.88it/s]"
     ]
    },
    {
     "name": "stdout",
     "output_type": "stream",
     "text": [
      "0029_1.png\n",
      "0029_2.png\n",
      "0029_3.png\n",
      "0029_4.png\n",
      "0029_5.png\n",
      "0030_0.png\n",
      "0030_1.png\n",
      "0030_2.png\n",
      "0030_3.png\n",
      "0030_4.png\n",
      "0030_5.png\n",
      "0031_0.png\n",
      "0031_1.png\n",
      "0031_2.png\n",
      "0031_3.png\n",
      "0031_4.png\n",
      "0031_5.png\n",
      "0032_0.png\n",
      "0032_1.png\n",
      "0032_2.png\n",
      "0032_3.png\n",
      "0033_0.png\n",
      "0033_1.png\n",
      "0033_2.png\n",
      "0033_3.png\n",
      "0033_4.png\n",
      "0033_5.png\n",
      "0034_0.png\n"
     ]
    },
    {
     "name": "stderr",
     "output_type": "stream",
     "text": [
      " 12%|█▏        | 160/1358 [00:01<00:07, 157.74it/s]"
     ]
    },
    {
     "name": "stdout",
     "output_type": "stream",
     "text": [
      "0034_1.png\n",
      "0034_2.png\n",
      "0034_3.png\n",
      "0034_4.png\n"
     ]
    },
    {
     "name": "stderr",
     "output_type": "stream",
     "text": [
      " 13%|█▎        | 176/1358 [00:01<00:07, 157.29it/s]"
     ]
    },
    {
     "name": "stdout",
     "output_type": "stream",
     "text": [
      "0034_5.png\n",
      "0035_0.png\n",
      "0035_1.png\n",
      "0035_2.png\n",
      "0035_3.png\n",
      "0035_4.png\n",
      "0036_0.png\n",
      "0036_1.png\n",
      "0036_2.png\n",
      "0036_3.png\n",
      "0037_0.png\n",
      "0037_1.png\n",
      "0037_2.png\n",
      "0038_0.png\n",
      "0038_1.png\n",
      "0038_2.png\n",
      "0038_3.png\n",
      "0039_0.png\n",
      "0039_1.png\n",
      "0039_2.png\n",
      "0039_3.png\n",
      "0040_0.png\n",
      "0040_1.png\n",
      "0040_2.png\n",
      "0040_3.png\n",
      "0041_0.png\n",
      "0041_1.png\n",
      "0041_2.png\n"
     ]
    },
    {
     "name": "stderr",
     "output_type": "stream",
     "text": [
      " 14%|█▍        | 192/1358 [00:01<00:07, 157.53it/s]"
     ]
    },
    {
     "name": "stdout",
     "output_type": "stream",
     "text": [
      "0041_3.png\n",
      "0041_4.png\n",
      "0041_5.png\n",
      "0042_0.png\n"
     ]
    },
    {
     "name": "stderr",
     "output_type": "stream",
     "text": [
      " 15%|█▌        | 208/1358 [00:01<00:07, 157.19it/s]"
     ]
    },
    {
     "name": "stdout",
     "output_type": "stream",
     "text": [
      "0042_1.png\n",
      "0042_2.png\n",
      "0042_3.png\n",
      "0043_0.png\n",
      "0043_1.png\n",
      "0043_2.png\n",
      "0044_0.png\n",
      "0044_1.png\n",
      "0044_2.png\n",
      "0045_0.png\n",
      "0045_1.png\n",
      "0045_2.png\n",
      "0045_3.png\n",
      "0046_0.png\n",
      "0046_1.png\n",
      "0046_2.png\n",
      "0046_3.png\n",
      "0046_4.png\n",
      "0047_0.png\n",
      "0047_1.png\n",
      "0047_2.png\n",
      "0047_3.png\n",
      "0047_4.png\n",
      "0048_0.png\n",
      "0048_1.png\n",
      "0048_2.png\n",
      "0048_3.png\n",
      "0049_0.png\n"
     ]
    },
    {
     "name": "stderr",
     "output_type": "stream",
     "text": [
      " 16%|█▋        | 224/1358 [00:01<00:07, 157.05it/s]"
     ]
    },
    {
     "name": "stdout",
     "output_type": "stream",
     "text": [
      "0049_1.png\n",
      "0049_2.png\n",
      "0049_3.png\n",
      "0050_0.png\n"
     ]
    },
    {
     "name": "stderr",
     "output_type": "stream",
     "text": [
      " 18%|█▊        | 240/1358 [00:01<00:07, 156.66it/s]"
     ]
    },
    {
     "name": "stdout",
     "output_type": "stream",
     "text": [
      "0050_1.png\n",
      "0050_2.png\n",
      "0051_0.png\n",
      "0051_1.png\n",
      "0051_2.png\n",
      "0052_0.png\n",
      "0052_1.png\n",
      "0052_2.png\n",
      "0052_3.png\n",
      "0052_4.png\n",
      "0052_5.png\n",
      "0053_0.png\n",
      "0053_1.png\n",
      "0053_2.png\n",
      "0054_0.png\n",
      "0054_1.png\n",
      "0054_2.png\n",
      "0055_0.png\n",
      "0055_1.png\n",
      "0055_2.png\n",
      "0055_3.png\n",
      "0055_4.png\n",
      "0055_5.png\n",
      "0056_0.png\n",
      "0056_1.png\n",
      "0056_2.png\n",
      "0056_3.png\n",
      "0056_4.png\n"
     ]
    },
    {
     "name": "stderr",
     "output_type": "stream",
     "text": [
      " 19%|█▉        | 256/1358 [00:01<00:07, 156.38it/s]"
     ]
    },
    {
     "name": "stdout",
     "output_type": "stream",
     "text": [
      "0056_5.png\n",
      "0057_0.png\n",
      "0057_1.png\n",
      "0057_2.png\n"
     ]
    },
    {
     "name": "stderr",
     "output_type": "stream",
     "text": [
      " 20%|██        | 272/1358 [00:01<00:06, 156.53it/s]"
     ]
    },
    {
     "name": "stdout",
     "output_type": "stream",
     "text": [
      "0057_3.png\n",
      "0057_4.png\n",
      "0058_0.png\n",
      "0058_1.png\n",
      "0058_2.png\n",
      "0058_3.png\n",
      "0059_0.png\n",
      "0059_1.png\n",
      "0059_2.png\n",
      "0060_0.png\n",
      "0060_1.png\n",
      "0060_2.png\n",
      "0060_3.png\n",
      "0060_4.png\n",
      "0060_5.png\n",
      "0061_0.png\n",
      "0061_1.png\n",
      "0061_2.png\n",
      "0061_3.png\n",
      "0061_4.png\n",
      "0061_5.png\n",
      "0062_0.png\n",
      "0062_1.png\n",
      "0062_2.png\n",
      "0062_3.png\n",
      "0062_4.png\n",
      "0063_0.png\n",
      "0063_1.png\n"
     ]
    },
    {
     "name": "stderr",
     "output_type": "stream",
     "text": [
      " 21%|██        | 288/1358 [00:01<00:06, 157.24it/s]"
     ]
    },
    {
     "name": "stdout",
     "output_type": "stream",
     "text": [
      "0063_2.png\n",
      "0063_3.png\n",
      "0064_0.png\n",
      "0064_1.png\n"
     ]
    },
    {
     "name": "stderr",
     "output_type": "stream",
     "text": [
      " 22%|██▏       | 304/1358 [00:01<00:06, 156.95it/s]"
     ]
    },
    {
     "name": "stdout",
     "output_type": "stream",
     "text": [
      "0064_2.png\n",
      "0064_3.png\n",
      "0065_0.png\n",
      "0065_1.png\n",
      "0065_2.png\n",
      "0066_0.png\n",
      "0066_1.png\n",
      "0066_2.png\n",
      "0066_3.png\n",
      "0066_4.png\n",
      "0066_5.png\n",
      "0067_0.png\n",
      "0067_1.png\n",
      "0067_2.png\n",
      "0068_0.png\n",
      "0068_1.png\n",
      "0068_2.png\n",
      "0068_3.png\n",
      "0068_4.png\n",
      "0069_0.png\n",
      "0069_1.png\n",
      "0069_2.png\n",
      "0069_3.png\n",
      "0070_0.png\n",
      "0070_1.png\n",
      "0070_2.png\n",
      "0070_3.png\n",
      "0070_4.png\n"
     ]
    },
    {
     "name": "stderr",
     "output_type": "stream",
     "text": [
      " 24%|██▎       | 320/1358 [00:02<00:06, 156.40it/s]"
     ]
    },
    {
     "name": "stdout",
     "output_type": "stream",
     "text": [
      "0070_5.png\n",
      "0071_0.png\n",
      "0071_1.png\n",
      "0071_2.png\n"
     ]
    },
    {
     "name": "stderr",
     "output_type": "stream",
     "text": [
      " 25%|██▍       | 336/1358 [00:02<00:06, 156.37it/s]"
     ]
    },
    {
     "name": "stdout",
     "output_type": "stream",
     "text": [
      "0071_3.png\n",
      "0071_4.png\n",
      "0071_5.png\n",
      "0072_0.png\n",
      "0072_1.png\n",
      "0072_2.png\n",
      "0073_0.png\n",
      "0073_1.png\n",
      "0073_2.png\n",
      "0073_3.png\n",
      "0074_0.png\n",
      "0074_1.png\n",
      "0074_2.png\n",
      "0074_3.png\n",
      "0074_4.png\n",
      "0074_5.png\n",
      "0075_0.png\n",
      "0075_1.png\n",
      "0075_2.png\n",
      "0075_3.png\n",
      "0075_4.png\n",
      "0075_5.png\n",
      "0076_0.png\n",
      "0076_1.png\n",
      "0076_2.png\n",
      "0077_0.png\n",
      "0077_1.png\n",
      "0077_2.png\n"
     ]
    },
    {
     "name": "stderr",
     "output_type": "stream",
     "text": [
      " 26%|██▌       | 352/1358 [00:02<00:06, 156.76it/s]"
     ]
    },
    {
     "name": "stdout",
     "output_type": "stream",
     "text": [
      "0077_3.png\n",
      "0077_4.png\n",
      "0077_5.png\n",
      "0078_0.png\n"
     ]
    },
    {
     "name": "stderr",
     "output_type": "stream",
     "text": [
      " 28%|██▊       | 384/1358 [00:02<00:06, 157.74it/s]"
     ]
    },
    {
     "name": "stdout",
     "output_type": "stream",
     "text": [
      "0078_1.png\n",
      "0078_2.png\n",
      "0078_3.png\n",
      "0078_4.png\n",
      "0078_5.png\n",
      "0079_0.png\n",
      "0079_1.png\n",
      "0079_2.png\n",
      "0079_3.png\n",
      "0079_4.png\n",
      "0079_5.png\n",
      "0080_0.png\n",
      "0080_1.png\n",
      "0080_2.png\n",
      "0081_0.png\n",
      "0081_1.png\n",
      "0081_2.png\n",
      "0081_3.png\n",
      "0081_4.png\n",
      "0081_5.png\n",
      "0082_0.png\n",
      "0082_1.png\n",
      "0082_2.png\n",
      "0083_0.png\n",
      "0083_1.png\n",
      "0083_2.png\n",
      "0083_3.png\n",
      "0083_4.png\n",
      "0083_5.png\n",
      "0084_0.png\n",
      "0084_1.png\n",
      "0084_2.png\n"
     ]
    },
    {
     "name": "stderr",
     "output_type": "stream",
     "text": [
      " 29%|██▉       | 400/1358 [00:02<00:06, 157.67it/s]"
     ]
    },
    {
     "name": "stdout",
     "output_type": "stream",
     "text": [
      "0085_0.png\n",
      "0085_1.png\n",
      "0085_2.png\n",
      "0085_3.png\n",
      "0085_4.png\n",
      "0086_0.png\n",
      "0086_1.png\n",
      "0086_2.png\n",
      "0086_3.png\n",
      "0087_0.png\n",
      "0087_1.png\n",
      "0087_2.png\n",
      "0087_3.png\n",
      "0087_4.png\n",
      "0088_0.png\n",
      "0088_1.png\n",
      "0088_2.png\n",
      "0088_3.png\n",
      "0088_4.png\n",
      "0088_5.png\n",
      "0089_0.png\n",
      "0089_1.png\n",
      "0089_2.png\n",
      "0089_3.png\n",
      "0090_0.png\n",
      "0090_1.png\n",
      "0090_2.png\n",
      "0090_3.png\n"
     ]
    },
    {
     "name": "stderr",
     "output_type": "stream",
     "text": [
      " 31%|███       | 416/1358 [00:02<00:05, 158.05it/s]"
     ]
    },
    {
     "name": "stdout",
     "output_type": "stream",
     "text": [
      "0091_0.png\n",
      "0091_1.png\n",
      "0091_2.png\n",
      "0091_3.png\n"
     ]
    },
    {
     "name": "stderr",
     "output_type": "stream",
     "text": [
      " 33%|███▎      | 448/1358 [00:02<00:05, 158.26it/s]"
     ]
    },
    {
     "name": "stdout",
     "output_type": "stream",
     "text": [
      "0091_4.png\n",
      "0092_0.png\n",
      "0092_1.png\n",
      "0092_2.png\n",
      "0092_3.png\n",
      "0093_0.png\n",
      "0093_1.png\n",
      "0093_2.png\n",
      "0093_3.png\n",
      "0093_4.png\n",
      "0094_0.png\n",
      "0094_1.png\n",
      "0094_2.png\n",
      "0095_0.png\n",
      "0095_1.png\n",
      "0095_2.png\n",
      "0095_3.png\n",
      "0095_4.png\n",
      "0096_0.png\n",
      "0096_1.png\n",
      "0096_2.png\n",
      "0096_3.png\n",
      "0096_4.png\n",
      "0097_0.png\n",
      "0097_1.png\n",
      "0097_2.png\n",
      "0097_3.png\n",
      "0097_4.png\n",
      "0097_5.png\n",
      "0098_0.png\n",
      "0098_1.png\n",
      "0098_2.png\n"
     ]
    },
    {
     "name": "stderr",
     "output_type": "stream",
     "text": [
      " 34%|███▍      | 464/1358 [00:02<00:05, 157.84it/s]"
     ]
    },
    {
     "name": "stdout",
     "output_type": "stream",
     "text": [
      "0098_3.png\n",
      "0098_4.png\n",
      "0098_5.png\n",
      "0099_0.png\n",
      "0099_1.png\n",
      "0099_2.png\n",
      "0099_3.png\n",
      "0099_4.png\n",
      "0099_5.png\n",
      "0100_0.png\n",
      "0100_1.png\n",
      "0100_2.png\n",
      "0100_3.png\n",
      "0100_4.png\n",
      "0100_5.png\n",
      "0101_0.png\n",
      "0101_1.png\n",
      "0101_2.png\n",
      "0101_3.png\n",
      "0101_4.png\n",
      "0101_5.png\n",
      "0102_0.png\n",
      "0102_1.png\n",
      "0102_2.png\n",
      "0102_3.png\n",
      "0102_4.png\n",
      "0103_0.png\n",
      "0103_1.png\n"
     ]
    },
    {
     "name": "stderr",
     "output_type": "stream",
     "text": [
      " 35%|███▌      | 480/1358 [00:03<00:05, 158.10it/s]"
     ]
    },
    {
     "name": "stdout",
     "output_type": "stream",
     "text": [
      "0103_2.png\n",
      "0103_3.png\n",
      "0103_4.png\n",
      "0104_0.png\n"
     ]
    },
    {
     "name": "stderr",
     "output_type": "stream",
     "text": [
      " 37%|███▋      | 496/1358 [00:03<00:05, 157.77it/s]"
     ]
    },
    {
     "name": "stdout",
     "output_type": "stream",
     "text": [
      "0104_1.png\n",
      "0104_2.png\n",
      "0104_3.png\n",
      "0105_0.png\n",
      "0105_1.png\n",
      "0105_2.png\n",
      "0106_0.png\n",
      "0106_1.png\n",
      "0106_2.png\n",
      "0106_3.png\n",
      "0106_4.png\n",
      "0106_5.png\n",
      "0107_0.png\n",
      "0107_1.png\n",
      "0107_2.png\n",
      "0107_3.png\n",
      "0108_0.png\n",
      "0108_1.png\n",
      "0108_2.png\n",
      "0109_0.png\n",
      "0109_1.png\n",
      "0109_2.png\n",
      "0109_3.png\n",
      "0109_4.png\n",
      "0110_0.png\n",
      "0110_1.png\n",
      "0110_2.png\n",
      "0111_0.png\n"
     ]
    },
    {
     "name": "stderr",
     "output_type": "stream",
     "text": [
      " 38%|███▊      | 512/1358 [00:03<00:05, 157.80it/s]"
     ]
    },
    {
     "name": "stdout",
     "output_type": "stream",
     "text": [
      "0111_1.png\n",
      "0111_2.png\n",
      "0111_3.png\n",
      "0112_0.png\n"
     ]
    },
    {
     "name": "stderr",
     "output_type": "stream",
     "text": [
      " 39%|███▉      | 528/1358 [00:03<00:05, 157.75it/s]"
     ]
    },
    {
     "name": "stdout",
     "output_type": "stream",
     "text": [
      "0112_1.png\n",
      "0112_2.png\n",
      "0112_3.png\n",
      "0112_4.png\n",
      "0112_5.png\n",
      "0113_0.png\n",
      "0113_1.png\n",
      "0113_2.png\n",
      "0113_3.png\n",
      "0113_4.png\n",
      "0113_5.png\n",
      "0114_0.png\n",
      "0114_1.png\n",
      "0114_2.png\n",
      "0114_3.png\n",
      "0114_4.png\n",
      "0114_5.png\n",
      "0115_0.png\n",
      "0115_1.png\n",
      "0115_2.png\n",
      "0115_3.png\n",
      "0115_4.png\n",
      "0116_0.png\n",
      "0116_1.png\n",
      "0116_2.png\n",
      "0117_0.png\n",
      "0117_1.png\n",
      "0117_2.png\n"
     ]
    },
    {
     "name": "stderr",
     "output_type": "stream",
     "text": [
      " 40%|████      | 544/1358 [00:03<00:05, 157.86it/s]"
     ]
    },
    {
     "name": "stdout",
     "output_type": "stream",
     "text": [
      "0117_3.png\n",
      "0118_0.png\n",
      "0118_1.png\n",
      "0118_2.png\n"
     ]
    },
    {
     "name": "stderr",
     "output_type": "stream",
     "text": [
      " 41%|████      | 560/1358 [00:03<00:05, 157.36it/s]"
     ]
    },
    {
     "name": "stdout",
     "output_type": "stream",
     "text": [
      "0118_3.png\n",
      "0119_0.png\n",
      "0119_1.png\n",
      "0119_2.png\n",
      "0119_3.png\n",
      "0119_4.png\n",
      "0120_0.png\n",
      "0120_1.png\n",
      "0120_2.png\n",
      "0120_3.png\n",
      "0120_4.png\n",
      "0120_5.png\n",
      "0121_0.png\n",
      "0121_1.png\n",
      "0121_2.png\n",
      "0121_3.png\n",
      "0121_4.png\n",
      "0122_0.png\n",
      "0122_1.png\n",
      "0122_2.png\n",
      "0123_0.png\n",
      "0123_1.png\n",
      "0123_2.png\n",
      "0123_3.png\n",
      "0123_4.png\n",
      "0123_5.png\n",
      "0124_0.png\n",
      "0124_1.png\n"
     ]
    },
    {
     "name": "stderr",
     "output_type": "stream",
     "text": [
      " 42%|████▏     | 576/1358 [00:03<00:04, 156.63it/s]"
     ]
    },
    {
     "name": "stdout",
     "output_type": "stream",
     "text": [
      "0124_2.png\n",
      "0125_0.png\n",
      "0125_1.png\n",
      "0125_2.png\n"
     ]
    },
    {
     "name": "stderr",
     "output_type": "stream",
     "text": [
      " 44%|████▎     | 592/1358 [00:03<00:04, 156.70it/s]"
     ]
    },
    {
     "name": "stdout",
     "output_type": "stream",
     "text": [
      "0126_0.png\n",
      "0126_1.png\n",
      "0126_2.png\n",
      "0127_0.png\n",
      "0127_1.png\n",
      "0127_2.png\n",
      "0127_3.png\n",
      "0127_4.png\n",
      "0127_5.png\n",
      "0128_0.png\n",
      "0128_1.png\n",
      "0128_2.png\n",
      "0128_3.png\n",
      "0128_4.png\n",
      "0128_5.png\n",
      "0129_0.png\n",
      "0129_1.png\n",
      "0129_2.png\n",
      "0129_3.png\n",
      "0130_0.png\n",
      "0130_1.png\n",
      "0130_2.png\n",
      "0131_0.png\n",
      "0131_1.png\n",
      "0131_2.png\n",
      "0131_3.png\n",
      "0131_4.png\n",
      "0132_0.png\n"
     ]
    },
    {
     "name": "stderr",
     "output_type": "stream",
     "text": [
      " 45%|████▍     | 608/1358 [00:03<00:04, 156.87it/s]"
     ]
    },
    {
     "name": "stdout",
     "output_type": "stream",
     "text": [
      "0132_1.png\n",
      "0132_2.png\n",
      "0132_3.png\n",
      "0132_4.png\n"
     ]
    },
    {
     "name": "stderr",
     "output_type": "stream",
     "text": [
      " 46%|████▌     | 624/1358 [00:03<00:04, 157.30it/s]"
     ]
    },
    {
     "name": "stdout",
     "output_type": "stream",
     "text": [
      "0133_0.png\n",
      "0133_1.png\n",
      "0133_2.png\n",
      "0133_3.png\n",
      "0133_4.png\n",
      "0133_5.png\n",
      "0134_0.png\n",
      "0134_1.png\n",
      "0134_2.png\n",
      "0134_3.png\n",
      "0134_4.png\n",
      "0134_5.png\n",
      "0135_0.png\n",
      "0135_1.png\n",
      "0135_2.png\n",
      "0135_3.png\n",
      "0135_4.png\n",
      "0135_5.png\n",
      "0136_0.png\n",
      "0136_1.png\n",
      "0136_2.png\n",
      "0137_0.png\n",
      "0137_1.png\n",
      "0137_2.png\n",
      "0137_3.png\n",
      "0138_0.png\n",
      "0138_1.png\n",
      "0138_2.png\n"
     ]
    },
    {
     "name": "stderr",
     "output_type": "stream",
     "text": [
      " 47%|████▋     | 640/1358 [00:04<00:04, 156.47it/s]"
     ]
    },
    {
     "name": "stdout",
     "output_type": "stream",
     "text": [
      "0138_3.png\n",
      "0139_0.png\n",
      "0139_1.png\n",
      "0139_2.png\n"
     ]
    },
    {
     "name": "stderr",
     "output_type": "stream",
     "text": [
      " 48%|████▊     | 656/1358 [00:04<00:04, 156.19it/s]"
     ]
    },
    {
     "name": "stdout",
     "output_type": "stream",
     "text": [
      "0139_3.png\n",
      "0139_4.png\n",
      "0140_0.png\n",
      "0140_1.png\n",
      "0140_2.png\n",
      "0141_0.png\n",
      "0141_1.png\n",
      "0141_2.png\n",
      "0141_3.png\n",
      "0141_4.png\n",
      "0141_5.png\n",
      "0142_0.png\n",
      "0142_1.png\n",
      "0142_2.png\n",
      "0142_3.png\n",
      "0143_0.png\n",
      "0143_1.png\n",
      "0143_2.png\n",
      "0143_3.png\n",
      "0144_0.png\n",
      "0144_1.png\n",
      "0144_2.png\n",
      "0144_3.png\n",
      "0144_4.png\n",
      "0144_5.png\n",
      "0145_0.png\n",
      "0145_1.png\n",
      "0145_2.png\n"
     ]
    },
    {
     "name": "stderr",
     "output_type": "stream",
     "text": [
      " 49%|████▉     | 672/1358 [00:04<00:04, 156.58it/s]"
     ]
    },
    {
     "name": "stdout",
     "output_type": "stream",
     "text": [
      "0145_3.png\n",
      "0145_4.png\n",
      "0145_5.png\n",
      "0146_0.png\n"
     ]
    },
    {
     "name": "stderr",
     "output_type": "stream",
     "text": [
      " 51%|█████     | 688/1358 [00:04<00:04, 156.49it/s]"
     ]
    },
    {
     "name": "stdout",
     "output_type": "stream",
     "text": [
      "0146_1.png\n",
      "0146_2.png\n",
      "0146_3.png\n",
      "0147_0.png\n",
      "0147_1.png\n",
      "0147_2.png\n",
      "0148_0.png\n",
      "0148_1.png\n",
      "0148_2.png\n",
      "0149_0.png\n",
      "0149_1.png\n",
      "0149_2.png\n",
      "0149_3.png\n",
      "0150_0.png\n",
      "0150_1.png\n",
      "0150_2.png\n",
      "0150_3.png\n",
      "0150_4.png\n",
      "0151_0.png\n",
      "0151_1.png\n",
      "0151_2.png\n",
      "0151_3.png\n",
      "0152_0.png\n",
      "0152_1.png\n",
      "0152_2.png\n",
      "0153_0.png\n",
      "0153_1.png\n",
      "0153_2.png\n"
     ]
    },
    {
     "name": "stderr",
     "output_type": "stream",
     "text": [
      " 52%|█████▏    | 704/1358 [00:04<00:04, 156.89it/s]"
     ]
    },
    {
     "name": "stdout",
     "output_type": "stream",
     "text": [
      "0153_3.png\n",
      "0153_4.png\n",
      "0154_0.png\n",
      "0154_1.png\n"
     ]
    },
    {
     "name": "stderr",
     "output_type": "stream",
     "text": [
      " 53%|█████▎    | 720/1358 [00:04<00:04, 156.96it/s]"
     ]
    },
    {
     "name": "stdout",
     "output_type": "stream",
     "text": [
      "0154_2.png\n",
      "0154_3.png\n",
      "0155_0.png\n",
      "0155_1.png\n",
      "0155_2.png\n",
      "0155_3.png\n",
      "0155_4.png\n",
      "0155_5.png\n",
      "0156_0.png\n",
      "0156_1.png\n",
      "0156_2.png\n",
      "0156_3.png\n",
      "0156_4.png\n",
      "0156_5.png\n",
      "0157_0.png\n",
      "0157_1.png\n",
      "0157_2.png\n",
      "0157_3.png\n",
      "0157_4.png\n",
      "0157_5.png\n",
      "0158_0.png\n",
      "0158_1.png\n",
      "0158_2.png\n",
      "0158_3.png\n",
      "0158_4.png\n",
      "0158_5.png\n",
      "0159_0.png\n",
      "0159_1.png\n"
     ]
    },
    {
     "name": "stderr",
     "output_type": "stream",
     "text": [
      " 54%|█████▍    | 736/1358 [00:04<00:03, 157.43it/s]"
     ]
    },
    {
     "name": "stdout",
     "output_type": "stream",
     "text": [
      "0159_2.png\n",
      "0159_3.png\n",
      "0159_4.png\n",
      "0160_0.png\n"
     ]
    },
    {
     "name": "stderr",
     "output_type": "stream",
     "text": [
      " 57%|█████▋    | 768/1358 [00:04<00:03, 158.08it/s]"
     ]
    },
    {
     "name": "stdout",
     "output_type": "stream",
     "text": [
      "0160_1.png\n",
      "0160_2.png\n",
      "0161_0.png\n",
      "0161_1.png\n",
      "0161_2.png\n",
      "0161_3.png\n",
      "0162_0.png\n",
      "0162_1.png\n",
      "0162_2.png\n",
      "0162_3.png\n",
      "0162_4.png\n",
      "0163_0.png\n",
      "0163_1.png\n",
      "0163_2.png\n",
      "0163_3.png\n",
      "0163_4.png\n",
      "0164_0.png\n",
      "0164_1.png\n",
      "0164_2.png\n",
      "0164_3.png\n",
      "0165_0.png\n",
      "0165_1.png\n",
      "0165_2.png\n",
      "0165_3.png\n",
      "0165_4.png\n",
      "0165_5.png\n",
      "0166_0.png\n",
      "0166_1.png\n",
      "0166_2.png\n",
      "0166_3.png\n",
      "0167_0.png\n",
      "0167_1.png\n"
     ]
    },
    {
     "name": "stderr",
     "output_type": "stream",
     "text": [
      " 58%|█████▊    | 784/1358 [00:04<00:03, 157.18it/s]"
     ]
    },
    {
     "name": "stdout",
     "output_type": "stream",
     "text": [
      "0167_2.png\n",
      "0167_3.png\n",
      "0168_0.png\n",
      "0168_1.png\n",
      "0168_2.png\n",
      "0168_3.png\n",
      "0168_4.png\n",
      "0168_5.png\n",
      "0169_0.png\n",
      "0169_1.png\n",
      "0169_2.png\n",
      "0170_0.png\n",
      "0170_1.png\n",
      "0170_2.png\n",
      "0171_0.png\n",
      "0171_1.png\n",
      "0171_2.png\n",
      "0171_3.png\n",
      "0172_0.png\n",
      "0172_1.png\n",
      "0172_2.png\n",
      "0172_3.png\n",
      "0172_4.png\n",
      "0172_5.png\n",
      "0173_0.png\n",
      "0173_1.png\n",
      "0173_2.png\n",
      "0173_3.png\n"
     ]
    },
    {
     "name": "stderr",
     "output_type": "stream",
     "text": [
      " 59%|█████▉    | 800/1358 [00:05<00:03, 157.81it/s]"
     ]
    },
    {
     "name": "stdout",
     "output_type": "stream",
     "text": [
      "0173_4.png\n",
      "0173_5.png\n",
      "0174_0.png\n",
      "0174_1.png\n"
     ]
    },
    {
     "name": "stderr",
     "output_type": "stream",
     "text": [
      " 60%|██████    | 816/1358 [00:05<00:03, 157.76it/s]"
     ]
    },
    {
     "name": "stdout",
     "output_type": "stream",
     "text": [
      "0174_2.png\n",
      "0175_0.png\n",
      "0175_1.png\n",
      "0175_2.png\n",
      "0175_3.png\n",
      "0175_4.png\n",
      "0176_0.png\n",
      "0176_1.png\n",
      "0176_2.png\n",
      "0176_3.png\n",
      "0176_4.png\n",
      "0177_0.png\n",
      "0177_1.png\n",
      "0177_2.png\n",
      "0177_3.png\n",
      "0177_4.png\n",
      "0178_0.png\n",
      "0178_1.png\n",
      "0178_2.png\n",
      "0179_0.png\n",
      "0179_1.png\n",
      "0179_2.png\n",
      "0179_3.png\n",
      "0179_4.png\n",
      "0179_5.png\n",
      "0180_0.png\n",
      "0180_1.png\n",
      "0180_2.png\n"
     ]
    },
    {
     "name": "stderr",
     "output_type": "stream",
     "text": [
      " 61%|██████▏   | 832/1358 [00:05<00:03, 157.96it/s]"
     ]
    },
    {
     "name": "stdout",
     "output_type": "stream",
     "text": [
      "0180_3.png\n",
      "0180_4.png\n",
      "0181_0.png\n",
      "0181_1.png\n"
     ]
    },
    {
     "name": "stderr",
     "output_type": "stream",
     "text": [
      " 62%|██████▏   | 848/1358 [00:05<00:03, 157.73it/s]"
     ]
    },
    {
     "name": "stdout",
     "output_type": "stream",
     "text": [
      "0181_2.png\n",
      "0181_3.png\n",
      "0182_0.png\n",
      "0182_1.png\n",
      "0182_2.png\n",
      "0182_3.png\n",
      "0182_4.png\n",
      "0182_5.png\n",
      "0183_0.png\n",
      "0183_1.png\n",
      "0183_2.png\n",
      "0184_0.png\n",
      "0184_1.png\n",
      "0184_2.png\n",
      "0185_0.png\n",
      "0185_1.png\n",
      "0185_2.png\n",
      "0185_3.png\n",
      "0186_0.png\n",
      "0186_1.png\n",
      "0186_2.png\n",
      "0187_0.png\n",
      "0187_1.png\n",
      "0187_2.png\n",
      "0187_3.png\n",
      "0187_4.png\n",
      "0187_5.png\n",
      "0188_0.png\n"
     ]
    },
    {
     "name": "stderr",
     "output_type": "stream",
     "text": [
      " 64%|██████▎   | 864/1358 [00:05<00:03, 157.56it/s]"
     ]
    },
    {
     "name": "stdout",
     "output_type": "stream",
     "text": [
      "0188_1.png\n",
      "0188_2.png\n",
      "0188_3.png\n",
      "0188_4.png\n"
     ]
    },
    {
     "name": "stderr",
     "output_type": "stream",
     "text": [
      " 65%|██████▍   | 880/1358 [00:05<00:03, 157.16it/s]"
     ]
    },
    {
     "name": "stdout",
     "output_type": "stream",
     "text": [
      "0189_0.png\n",
      "0189_1.png\n",
      "0189_2.png\n",
      "0189_3.png\n",
      "0189_4.png\n",
      "0189_5.png\n",
      "0190_0.png\n",
      "0190_1.png\n",
      "0190_2.png\n",
      "0190_3.png\n",
      "0191_0.png\n",
      "0191_1.png\n",
      "0191_2.png\n",
      "0191_3.png\n",
      "0192_0.png\n",
      "0192_1.png\n",
      "0192_2.png\n",
      "0192_3.png\n",
      "0192_4.png\n",
      "0192_5.png\n",
      "0193_0.png\n",
      "0193_1.png\n",
      "0193_2.png\n",
      "0194_0.png\n",
      "0194_1.png\n",
      "0194_2.png\n",
      "0195_0.png\n",
      "0195_1.png\n"
     ]
    },
    {
     "name": "stderr",
     "output_type": "stream",
     "text": [
      " 66%|██████▌   | 896/1358 [00:05<00:02, 157.27it/s]"
     ]
    },
    {
     "name": "stdout",
     "output_type": "stream",
     "text": [
      "0195_2.png\n",
      "0195_3.png\n",
      "0195_4.png\n",
      "0195_5.png\n"
     ]
    },
    {
     "name": "stderr",
     "output_type": "stream",
     "text": [
      " 67%|██████▋   | 912/1358 [00:05<00:02, 157.59it/s]"
     ]
    },
    {
     "name": "stdout",
     "output_type": "stream",
     "text": [
      "0196_0.png\n",
      "0196_1.png\n",
      "0196_2.png\n",
      "0196_3.png\n",
      "0196_4.png\n",
      "0196_5.png\n",
      "0197_0.png\n",
      "0197_1.png\n",
      "0197_2.png\n",
      "0197_3.png\n",
      "0197_4.png\n",
      "0198_0.png\n",
      "0198_1.png\n",
      "0198_2.png\n",
      "0198_3.png\n",
      "0198_4.png\n",
      "0198_5.png\n",
      "0199_0.png\n",
      "0199_1.png\n",
      "0199_2.png\n",
      "0200_0.png\n",
      "0200_1.png\n",
      "0200_2.png\n",
      "0200_3.png\n",
      "0200_4.png\n",
      "0201_0.png\n",
      "0201_1.png\n",
      "0201_2.png\n"
     ]
    },
    {
     "name": "stderr",
     "output_type": "stream",
     "text": [
      " 68%|██████▊   | 928/1358 [00:05<00:02, 157.90it/s]"
     ]
    },
    {
     "name": "stdout",
     "output_type": "stream",
     "text": [
      "0201_3.png\n",
      "0202_0.png\n",
      "0202_1.png\n",
      "0202_2.png\n"
     ]
    },
    {
     "name": "stderr",
     "output_type": "stream",
     "text": [
      " 70%|██████▉   | 944/1358 [00:06<00:02, 156.81it/s]"
     ]
    },
    {
     "name": "stdout",
     "output_type": "stream",
     "text": [
      "0202_3.png\n",
      "0203_0.png\n",
      "0203_1.png\n",
      "0203_2.png\n",
      "0204_0.png\n",
      "0204_1.png\n",
      "0204_2.png\n",
      "0205_0.png\n",
      "0205_1.png\n",
      "0205_2.png\n",
      "0206_0.png\n",
      "0206_1.png\n",
      "0206_2.png\n",
      "0207_0.png\n",
      "0207_1.png\n",
      "0207_2.png\n",
      "0207_3.png\n",
      "0207_4.png\n",
      "0207_5.png\n",
      "0208_0.png\n",
      "0208_1.png\n",
      "0208_2.png\n",
      "0209_0.png\n",
      "0209_1.png\n",
      "0209_2.png\n",
      "0209_3.png\n",
      "0209_4.png\n",
      "0210_0.png\n"
     ]
    },
    {
     "name": "stderr",
     "output_type": "stream",
     "text": [
      " 71%|███████   | 960/1358 [00:06<00:02, 156.62it/s]"
     ]
    },
    {
     "name": "stdout",
     "output_type": "stream",
     "text": [
      "0210_1.png\n",
      "0210_2.png\n",
      "0210_3.png\n",
      "0210_4.png\n"
     ]
    },
    {
     "name": "stderr",
     "output_type": "stream",
     "text": [
      " 72%|███████▏  | 976/1358 [00:06<00:02, 157.10it/s]"
     ]
    },
    {
     "name": "stdout",
     "output_type": "stream",
     "text": [
      "0211_0.png\n",
      "0211_1.png\n",
      "0211_2.png\n",
      "0212_0.png\n",
      "0212_1.png\n",
      "0212_2.png\n",
      "0212_3.png\n",
      "0212_4.png\n",
      "0213_0.png\n",
      "0213_1.png\n",
      "0213_2.png\n",
      "0213_3.png\n",
      "0213_4.png\n",
      "0213_5.png\n",
      "0214_0.png\n",
      "0214_1.png\n",
      "0214_2.png\n",
      "0214_3.png\n",
      "0214_4.png\n",
      "0214_5.png\n",
      "0215_0.png\n",
      "0215_1.png\n",
      "0215_2.png\n",
      "0216_0.png\n",
      "0216_1.png\n",
      "0216_2.png\n",
      "0216_3.png\n",
      "0217_0.png\n"
     ]
    },
    {
     "name": "stderr",
     "output_type": "stream",
     "text": [
      " 73%|███████▎  | 992/1358 [00:06<00:02, 157.11it/s]"
     ]
    },
    {
     "name": "stdout",
     "output_type": "stream",
     "text": [
      "0217_1.png\n",
      "0217_2.png\n",
      "0217_3.png\n",
      "0217_4.png\n"
     ]
    },
    {
     "name": "stderr",
     "output_type": "stream",
     "text": [
      " 74%|███████▍  | 1008/1358 [00:06<00:02, 157.44it/s]"
     ]
    },
    {
     "name": "stdout",
     "output_type": "stream",
     "text": [
      "0218_0.png\n",
      "0218_1.png\n",
      "0218_2.png\n",
      "0218_3.png\n",
      "0218_4.png\n",
      "0219_0.png\n",
      "0219_1.png\n",
      "0219_2.png\n",
      "0220_0.png\n",
      "0220_1.png\n",
      "0220_2.png\n",
      "0220_3.png\n",
      "0220_4.png\n",
      "0221_0.png\n",
      "0221_1.png\n",
      "0221_2.png\n",
      "0221_3.png\n",
      "0222_0.png\n",
      "0222_1.png\n",
      "0222_2.png\n",
      "0222_3.png\n",
      "0223_0.png\n",
      "0223_1.png\n",
      "0223_2.png\n",
      "0223_3.png\n",
      "0224_0.png\n",
      "0224_1.png\n",
      "0224_2.png\n"
     ]
    },
    {
     "name": "stderr",
     "output_type": "stream",
     "text": [
      " 75%|███████▌  | 1024/1358 [00:06<00:02, 157.47it/s]"
     ]
    },
    {
     "name": "stdout",
     "output_type": "stream",
     "text": [
      "0224_3.png\n",
      "0224_4.png\n",
      "0225_0.png\n",
      "0225_1.png\n"
     ]
    },
    {
     "name": "stderr",
     "output_type": "stream",
     "text": [
      " 77%|███████▋  | 1040/1358 [00:06<00:02, 157.55it/s]"
     ]
    },
    {
     "name": "stdout",
     "output_type": "stream",
     "text": [
      "0225_2.png\n",
      "0225_3.png\n",
      "0225_4.png\n",
      "0225_5.png\n",
      "0226_0.png\n",
      "0226_1.png\n",
      "0226_2.png\n",
      "0226_3.png\n",
      "0227_0.png\n",
      "0227_1.png\n",
      "0227_2.png\n",
      "0227_3.png\n",
      "0227_4.png\n",
      "0227_5.png\n",
      "0228_0.png\n",
      "0228_1.png\n",
      "0228_2.png\n",
      "0229_0.png\n",
      "0229_1.png\n",
      "0229_2.png\n",
      "0229_3.png\n",
      "0229_4.png\n",
      "0229_5.png\n",
      "0230_0.png\n",
      "0230_1.png\n",
      "0230_2.png\n",
      "0230_3.png\n",
      "0231_0.png\n"
     ]
    },
    {
     "name": "stderr",
     "output_type": "stream",
     "text": [
      " 78%|███████▊  | 1056/1358 [00:06<00:01, 157.25it/s]"
     ]
    },
    {
     "name": "stdout",
     "output_type": "stream",
     "text": [
      "0231_1.png\n",
      "0231_2.png\n",
      "0231_3.png\n",
      "0232_0.png\n"
     ]
    },
    {
     "name": "stderr",
     "output_type": "stream",
     "text": [
      " 79%|███████▉  | 1072/1358 [00:06<00:01, 157.22it/s]"
     ]
    },
    {
     "name": "stdout",
     "output_type": "stream",
     "text": [
      "0232_1.png\n",
      "0232_2.png\n",
      "0232_3.png\n",
      "0232_4.png\n",
      "0233_0.png\n",
      "0233_1.png\n",
      "0233_2.png\n",
      "0234_0.png\n",
      "0234_1.png\n",
      "0234_2.png\n",
      "0235_0.png\n",
      "0235_1.png\n",
      "0235_2.png\n",
      "0235_3.png\n",
      "0236_0.png\n",
      "0236_1.png\n",
      "0236_2.png\n",
      "0236_3.png\n",
      "0237_0.png\n",
      "0237_1.png\n",
      "0237_2.png\n",
      "0237_3.png\n",
      "0237_4.png\n",
      "0237_5.png\n",
      "0238_0.png\n",
      "0238_1.png\n",
      "0238_2.png\n",
      "0238_3.png\n"
     ]
    },
    {
     "name": "stderr",
     "output_type": "stream",
     "text": [
      " 80%|████████  | 1088/1358 [00:06<00:01, 157.79it/s]"
     ]
    },
    {
     "name": "stdout",
     "output_type": "stream",
     "text": [
      "0239_0.png\n",
      "0239_1.png\n",
      "0239_2.png\n",
      "0240_0.png\n"
     ]
    },
    {
     "name": "stderr",
     "output_type": "stream",
     "text": [
      " 81%|████████▏ | 1104/1358 [00:07<00:01, 156.96it/s]"
     ]
    },
    {
     "name": "stdout",
     "output_type": "stream",
     "text": [
      "0240_1.png\n",
      "0240_2.png\n",
      "0240_3.png\n",
      "0240_4.png\n",
      "0240_5.png\n",
      "0241_0.png\n",
      "0241_1.png\n",
      "0241_2.png\n",
      "0242_0.png\n",
      "0242_1.png\n",
      "0242_2.png\n",
      "0242_3.png\n",
      "0242_4.png\n",
      "0243_0.png\n",
      "0243_1.png\n",
      "0243_2.png\n",
      "0243_3.png\n",
      "0244_0.png\n",
      "0244_1.png\n",
      "0244_2.png\n",
      "0244_3.png\n",
      "0245_0.png\n",
      "0245_1.png\n",
      "0245_2.png\n",
      "0245_3.png\n",
      "0245_4.png\n",
      "0245_5.png\n",
      "0246_0.png\n"
     ]
    },
    {
     "name": "stderr",
     "output_type": "stream",
     "text": [
      " 82%|████████▏ | 1120/1358 [00:07<00:01, 157.21it/s]"
     ]
    },
    {
     "name": "stdout",
     "output_type": "stream",
     "text": [
      "0246_1.png\n",
      "0246_2.png\n",
      "0246_3.png\n",
      "0246_4.png\n"
     ]
    },
    {
     "name": "stderr",
     "output_type": "stream",
     "text": [
      " 84%|████████▎ | 1136/1358 [00:07<00:01, 157.62it/s]"
     ]
    },
    {
     "name": "stdout",
     "output_type": "stream",
     "text": [
      "0246_5.png\n",
      "0247_0.png\n",
      "0247_1.png\n",
      "0247_2.png\n",
      "0247_3.png\n",
      "0247_4.png\n",
      "0247_5.png\n",
      "0248_0.png\n",
      "0248_1.png\n",
      "0248_2.png\n",
      "0248_3.png\n",
      "0249_0.png\n",
      "0249_1.png\n",
      "0249_2.png\n",
      "0250_0.png\n",
      "0250_1.png\n",
      "0250_2.png\n",
      "0251_0.png\n",
      "0251_1.png\n",
      "0251_2.png\n",
      "0251_3.png\n",
      "0252_0.png\n",
      "0252_1.png\n",
      "0252_2.png\n",
      "0252_3.png\n",
      "0252_4.png\n",
      "0252_5.png\n",
      "0253_0.png\n"
     ]
    },
    {
     "name": "stderr",
     "output_type": "stream",
     "text": [
      " 85%|████████▍ | 1152/1358 [00:07<00:01, 157.51it/s]"
     ]
    },
    {
     "name": "stdout",
     "output_type": "stream",
     "text": [
      "0253_1.png\n",
      "0253_2.png\n",
      "0254_0.png\n",
      "0254_1.png\n"
     ]
    },
    {
     "name": "stderr",
     "output_type": "stream",
     "text": [
      " 86%|████████▌ | 1168/1358 [00:07<00:01, 157.31it/s]"
     ]
    },
    {
     "name": "stdout",
     "output_type": "stream",
     "text": [
      "0254_2.png\n",
      "0255_0.png\n",
      "0255_1.png\n",
      "0255_2.png\n",
      "0255_3.png\n",
      "0255_4.png\n",
      "0255_5.png\n",
      "0256_0.png\n",
      "0256_1.png\n",
      "0256_2.png\n",
      "0256_3.png\n",
      "0256_4.png\n",
      "0256_5.png\n",
      "0257_0.png\n",
      "0257_1.png\n",
      "0257_2.png\n",
      "0257_3.png\n",
      "0257_4.png\n",
      "0257_5.png\n",
      "0258_0.png\n",
      "0258_1.png\n",
      "0258_2.png\n",
      "0259_0.png\n",
      "0259_1.png\n",
      "0259_2.png\n",
      "0259_3.png\n",
      "0260_0.png\n",
      "0260_1.png\n"
     ]
    },
    {
     "name": "stderr",
     "output_type": "stream",
     "text": [
      " 87%|████████▋ | 1184/1358 [00:07<00:01, 157.67it/s]"
     ]
    },
    {
     "name": "stdout",
     "output_type": "stream",
     "text": [
      "0260_2.png\n",
      "0260_3.png\n",
      "0260_4.png\n",
      "0260_5.png\n"
     ]
    },
    {
     "name": "stderr",
     "output_type": "stream",
     "text": [
      " 88%|████████▊ | 1200/1358 [00:07<00:01, 157.50it/s]"
     ]
    },
    {
     "name": "stdout",
     "output_type": "stream",
     "text": [
      "0261_0.png\n",
      "0261_1.png\n",
      "0261_2.png\n",
      "0261_3.png\n",
      "0262_0.png\n",
      "0262_1.png\n",
      "0262_2.png\n",
      "0262_3.png\n",
      "0263_0.png\n",
      "0263_1.png\n",
      "0263_2.png\n",
      "0264_0.png\n",
      "0264_1.png\n",
      "0264_2.png\n",
      "0264_3.png\n",
      "0264_4.png\n",
      "0265_0.png\n",
      "0265_1.png\n",
      "0265_2.png\n",
      "0266_0.png\n",
      "0266_1.png\n",
      "0266_2.png\n",
      "0266_3.png\n",
      "0267_0.png\n",
      "0267_1.png\n",
      "0267_2.png\n",
      "0267_3.png\n",
      "0267_4.png\n"
     ]
    },
    {
     "name": "stderr",
     "output_type": "stream",
     "text": [
      " 90%|████████▉ | 1216/1358 [00:07<00:00, 157.87it/s]"
     ]
    },
    {
     "name": "stdout",
     "output_type": "stream",
     "text": [
      "0268_0.png\n",
      "0268_1.png\n",
      "0268_2.png\n",
      "0269_0.png\n"
     ]
    },
    {
     "name": "stderr",
     "output_type": "stream",
     "text": [
      " 91%|█████████ | 1232/1358 [00:07<00:00, 157.41it/s]"
     ]
    },
    {
     "name": "stdout",
     "output_type": "stream",
     "text": [
      "0269_1.png\n",
      "0269_2.png\n",
      "0269_3.png\n",
      "0269_4.png\n",
      "0269_5.png\n",
      "0270_0.png\n",
      "0270_1.png\n",
      "0270_2.png\n",
      "0270_3.png\n",
      "0271_0.png\n",
      "0271_1.png\n",
      "0271_2.png\n",
      "0271_3.png\n",
      "0271_4.png\n",
      "0272_0.png\n",
      "0272_1.png\n",
      "0272_2.png\n",
      "0273_0.png\n",
      "0273_1.png\n",
      "0273_2.png\n",
      "0273_3.png\n",
      "0274_0.png\n",
      "0274_1.png\n",
      "0274_2.png\n",
      "0274_3.png\n",
      "0274_4.png\n",
      "0274_5.png\n",
      "0275_0.png\n"
     ]
    },
    {
     "name": "stderr",
     "output_type": "stream",
     "text": [
      " 92%|█████████▏| 1248/1358 [00:07<00:00, 157.80it/s]"
     ]
    },
    {
     "name": "stdout",
     "output_type": "stream",
     "text": [
      "0275_1.png\n",
      "0275_2.png\n",
      "0276_0.png\n",
      "0276_1.png\n"
     ]
    },
    {
     "name": "stderr",
     "output_type": "stream",
     "text": [
      " 93%|█████████▎| 1264/1358 [00:08<00:00, 157.50it/s]"
     ]
    },
    {
     "name": "stdout",
     "output_type": "stream",
     "text": [
      "0276_2.png\n",
      "0276_3.png\n",
      "0276_4.png\n",
      "0277_0.png\n",
      "0277_1.png\n",
      "0277_2.png\n",
      "0277_3.png\n",
      "0277_4.png\n",
      "0277_5.png\n",
      "0278_0.png\n",
      "0278_1.png\n",
      "0278_2.png\n",
      "0278_3.png\n",
      "0279_0.png\n",
      "0279_1.png\n",
      "0279_2.png\n",
      "0280_0.png\n",
      "0280_1.png\n",
      "0280_2.png\n",
      "0280_3.png\n",
      "0280_4.png\n",
      "0280_5.png\n",
      "0281_0.png\n",
      "0281_1.png\n",
      "0281_2.png\n",
      "0281_3.png\n",
      "0282_0.png\n",
      "0282_1.png\n"
     ]
    },
    {
     "name": "stderr",
     "output_type": "stream",
     "text": [
      " 94%|█████████▍| 1280/1358 [00:08<00:00, 157.48it/s]"
     ]
    },
    {
     "name": "stdout",
     "output_type": "stream",
     "text": [
      "0282_2.png\n",
      "0282_3.png\n",
      "0283_0.png\n",
      "0283_1.png\n"
     ]
    },
    {
     "name": "stderr",
     "output_type": "stream",
     "text": [
      " 95%|█████████▌| 1296/1358 [00:08<00:00, 156.97it/s]"
     ]
    },
    {
     "name": "stdout",
     "output_type": "stream",
     "text": [
      "0283_2.png\n",
      "0283_3.png\n",
      "0284_0.png\n",
      "0284_1.png\n",
      "0284_2.png\n",
      "0284_3.png\n",
      "0284_4.png\n",
      "0285_0.png\n",
      "0285_1.png\n",
      "0285_2.png\n",
      "0285_3.png\n",
      "0286_0.png\n",
      "0286_1.png\n",
      "0286_2.png\n",
      "0286_3.png\n",
      "0286_4.png\n",
      "0287_0.png\n",
      "0287_1.png\n",
      "0287_2.png\n",
      "0287_3.png\n",
      "0287_4.png\n",
      "0287_5.png\n",
      "0288_0.png\n",
      "0288_1.png\n",
      "0288_2.png\n",
      "0288_3.png\n",
      "0288_4.png\n",
      "0288_5.png\n"
     ]
    },
    {
     "name": "stderr",
     "output_type": "stream",
     "text": [
      " 97%|█████████▋| 1313/1358 [00:08<00:00, 157.71it/s]"
     ]
    },
    {
     "name": "stdout",
     "output_type": "stream",
     "text": [
      "0289_0.png\n",
      "0289_1.png\n",
      "0289_2.png\n",
      "0290_0.png\n"
     ]
    },
    {
     "name": "stderr",
     "output_type": "stream",
     "text": [
      " 98%|█████████▊| 1329/1358 [00:08<00:00, 157.31it/s]"
     ]
    },
    {
     "name": "stdout",
     "output_type": "stream",
     "text": [
      "0290_1.png\n",
      "0290_2.png\n",
      "0291_0.png\n",
      "0291_1.png\n",
      "0291_2.png\n",
      "0291_3.png\n",
      "0292_0.png\n",
      "0292_1.png\n",
      "0292_2.png\n",
      "0292_3.png\n",
      "0292_4.png\n",
      "0293_0.png\n",
      "0293_1.png\n",
      "0293_2.png\n",
      "0294_0.png\n",
      "0294_1.png\n",
      "0294_2.png\n",
      "0294_3.png\n",
      "0294_4.png\n",
      "0295_0.png\n",
      "0295_1.png\n",
      "0295_2.png\n",
      "0296_0.png\n",
      "0296_1.png\n",
      "0296_2.png\n",
      "0296_3.png\n",
      "0296_4.png\n",
      "0297_0.png\n"
     ]
    },
    {
     "name": "stderr",
     "output_type": "stream",
     "text": [
      " 99%|█████████▉| 1345/1358 [00:08<00:00, 157.37it/s]"
     ]
    },
    {
     "name": "stdout",
     "output_type": "stream",
     "text": [
      "0297_1.png\n",
      "0297_2.png\n",
      "0297_3.png\n",
      "0297_4.png\n"
     ]
    },
    {
     "name": "stderr",
     "output_type": "stream",
     "text": [
      "100%|██████████| 1358/1358 [00:08<00:00, 157.31it/s]"
     ]
    },
    {
     "name": "stdout",
     "output_type": "stream",
     "text": [
      "0297_5.png\n",
      "0298_0.png\n",
      "0298_1.png\n",
      "0298_2.png\n",
      "0299_0.png\n",
      "0299_1.png\n",
      "0299_2.png\n",
      "0299_3.png\n",
      "0299_4.png\n",
      "0299_5.png\n"
     ]
    },
    {
     "name": "stderr",
     "output_type": "stream",
     "text": [
      "\n"
     ]
    }
   ],
   "source": [
    "import numpy as np\n",
    "from PIL import Image\n",
    "import os\n",
    "from tqdm import tqdm\n",
    "import cv2\n",
    "\n",
    "def process_image(image_path):\n",
    "    # img = Image.open(image_path)\n",
    "    # pixels = np.array(img)\n",
    "    pixels = cv2.imread(image_path)\n",
    "\n",
    "    if image_path.endswith('_0.png'):\n",
    "        # Case 1: File name ends with '_0'\n",
    "        mask = (pixels == [64, 64, 64]).all(axis=-1)\n",
    "        pixels[mask] = [255, 255, 255]\n",
    "    else:\n",
    "        # Case 2: File name does not end with '_0'\n",
    "        mask = (pixels == [64, 64, 64]).all(axis=-1)\n",
    "        pixels[mask] = [0, 0, 0]\n",
    "\n",
    "    img = Image.fromarray(pixels)\n",
    "    img.save(image_path)\n",
    "\n",
    "def process_images_in_folder(folder_path):\n",
    "    for filename in tqdm(sorted(os.listdir(folder_path))):\n",
    "        if filename.lower().endswith(('.png', '.jpg', '.jpeg')):\n",
    "            print(filename)\n",
    "            image_path = os.path.join(folder_path, filename)\n",
    "            process_image(image_path)\n",
    "\n",
    "if __name__ == '__main__':\n",
    "    target_folder = '/workspace/controllable-clevr/image_generation/rebuttal_300'\n",
    "    \n",
    "    process_images_in_folder(os.path.join(target_folder, 'metal/masks'))\n",
    "    process_images_in_folder(os.path.join(target_folder, 'rubber/masks'))\n"
   ]
  },
  {
   "cell_type": "code",
   "execution_count": null,
   "metadata": {},
   "outputs": [
    {
     "ename": "",
     "evalue": "",
     "output_type": "error",
     "traceback": [
      "\u001b[1;31m'base'(으)로 셀을 실행하려면 ipykernel 패키지가 필요합니다.\n",
      "\u001b[1;31mRun the following command to install 'ipykernel' into the Python environment. \n",
      "\u001b[1;31mCommand: 'conda install -n base ipykernel --update-deps --force-reinstall'"
     ]
    }
   ],
   "source": []
  },
  {
   "cell_type": "code",
   "execution_count": null,
   "metadata": {},
   "outputs": [],
   "source": []
  }
 ],
 "metadata": {
  "kernelspec": {
   "display_name": "Python 3",
   "language": "python",
   "name": "python3"
  },
  "language_info": {
   "codemirror_mode": {
    "name": "ipython",
    "version": 3
   },
   "file_extension": ".py",
   "mimetype": "text/x-python",
   "name": "python",
   "nbconvert_exporter": "python",
   "pygments_lexer": "ipython3",
   "version": "3.7.12"
  },
  "orig_nbformat": 4
 },
 "nbformat": 4,
 "nbformat_minor": 2
}
